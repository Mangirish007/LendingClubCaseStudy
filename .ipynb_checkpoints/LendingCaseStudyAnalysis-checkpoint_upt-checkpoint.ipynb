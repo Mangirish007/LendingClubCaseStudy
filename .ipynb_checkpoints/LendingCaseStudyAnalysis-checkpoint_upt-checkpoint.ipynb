{
 "cells": [
  {
   "cell_type": "code",
   "execution_count": 1,
   "id": "3fa7f646",
   "metadata": {},
   "outputs": [],
   "source": [
    "import pandas as pd\n",
    "import numpy as np\n",
    "import matplotlib.pyplot as plt\n",
    "import seaborn as sns"
   ]
  },
  {
   "cell_type": "markdown",
   "id": "89350e8d",
   "metadata": {},
   "source": [
    "# Readinng the loan.csv file"
   ]
  },
  {
   "cell_type": "code",
   "execution_count": 3,
   "id": "cc51fdda",
   "metadata": {},
   "outputs": [],
   "source": [
    "data_raw = pd.read_csv(r\"C:/Users/kavlekar_m/Documents/Upgrade_ML_and_AI/Lending_case_study/data_files/loan.csv\")"
   ]
  },
  {
   "cell_type": "markdown",
   "id": "3c51ef23",
   "metadata": {},
   "source": [
    "# checking the top 5 rows"
   ]
  },
  {
   "cell_type": "code",
   "execution_count": 4,
   "id": "16c1dd31",
   "metadata": {},
   "outputs": [
    {
     "data": {
      "text/html": [
       "<div>\n",
       "<style scoped>\n",
       "    .dataframe tbody tr th:only-of-type {\n",
       "        vertical-align: middle;\n",
       "    }\n",
       "\n",
       "    .dataframe tbody tr th {\n",
       "        vertical-align: top;\n",
       "    }\n",
       "\n",
       "    .dataframe thead th {\n",
       "        text-align: right;\n",
       "    }\n",
       "</style>\n",
       "<table border=\"1\" class=\"dataframe\">\n",
       "  <thead>\n",
       "    <tr style=\"text-align: right;\">\n",
       "      <th></th>\n",
       "      <th>id</th>\n",
       "      <th>member_id</th>\n",
       "      <th>loan_amnt</th>\n",
       "      <th>funded_amnt</th>\n",
       "      <th>funded_amnt_inv</th>\n",
       "      <th>term</th>\n",
       "      <th>int_rate</th>\n",
       "      <th>installment</th>\n",
       "      <th>grade</th>\n",
       "      <th>sub_grade</th>\n",
       "      <th>...</th>\n",
       "      <th>num_tl_90g_dpd_24m</th>\n",
       "      <th>num_tl_op_past_12m</th>\n",
       "      <th>pct_tl_nvr_dlq</th>\n",
       "      <th>percent_bc_gt_75</th>\n",
       "      <th>pub_rec_bankruptcies</th>\n",
       "      <th>tax_liens</th>\n",
       "      <th>tot_hi_cred_lim</th>\n",
       "      <th>total_bal_ex_mort</th>\n",
       "      <th>total_bc_limit</th>\n",
       "      <th>total_il_high_credit_limit</th>\n",
       "    </tr>\n",
       "  </thead>\n",
       "  <tbody>\n",
       "    <tr>\n",
       "      <th>0</th>\n",
       "      <td>1077501</td>\n",
       "      <td>1296599</td>\n",
       "      <td>5000</td>\n",
       "      <td>5000</td>\n",
       "      <td>4975.0</td>\n",
       "      <td>36 months</td>\n",
       "      <td>10.65%</td>\n",
       "      <td>162.87</td>\n",
       "      <td>B</td>\n",
       "      <td>B2</td>\n",
       "      <td>...</td>\n",
       "      <td>NaN</td>\n",
       "      <td>NaN</td>\n",
       "      <td>NaN</td>\n",
       "      <td>NaN</td>\n",
       "      <td>0.0</td>\n",
       "      <td>0.0</td>\n",
       "      <td>NaN</td>\n",
       "      <td>NaN</td>\n",
       "      <td>NaN</td>\n",
       "      <td>NaN</td>\n",
       "    </tr>\n",
       "    <tr>\n",
       "      <th>1</th>\n",
       "      <td>1077430</td>\n",
       "      <td>1314167</td>\n",
       "      <td>2500</td>\n",
       "      <td>2500</td>\n",
       "      <td>2500.0</td>\n",
       "      <td>60 months</td>\n",
       "      <td>15.27%</td>\n",
       "      <td>59.83</td>\n",
       "      <td>C</td>\n",
       "      <td>C4</td>\n",
       "      <td>...</td>\n",
       "      <td>NaN</td>\n",
       "      <td>NaN</td>\n",
       "      <td>NaN</td>\n",
       "      <td>NaN</td>\n",
       "      <td>0.0</td>\n",
       "      <td>0.0</td>\n",
       "      <td>NaN</td>\n",
       "      <td>NaN</td>\n",
       "      <td>NaN</td>\n",
       "      <td>NaN</td>\n",
       "    </tr>\n",
       "    <tr>\n",
       "      <th>2</th>\n",
       "      <td>1077175</td>\n",
       "      <td>1313524</td>\n",
       "      <td>2400</td>\n",
       "      <td>2400</td>\n",
       "      <td>2400.0</td>\n",
       "      <td>36 months</td>\n",
       "      <td>15.96%</td>\n",
       "      <td>84.33</td>\n",
       "      <td>C</td>\n",
       "      <td>C5</td>\n",
       "      <td>...</td>\n",
       "      <td>NaN</td>\n",
       "      <td>NaN</td>\n",
       "      <td>NaN</td>\n",
       "      <td>NaN</td>\n",
       "      <td>0.0</td>\n",
       "      <td>0.0</td>\n",
       "      <td>NaN</td>\n",
       "      <td>NaN</td>\n",
       "      <td>NaN</td>\n",
       "      <td>NaN</td>\n",
       "    </tr>\n",
       "    <tr>\n",
       "      <th>3</th>\n",
       "      <td>1076863</td>\n",
       "      <td>1277178</td>\n",
       "      <td>10000</td>\n",
       "      <td>10000</td>\n",
       "      <td>10000.0</td>\n",
       "      <td>36 months</td>\n",
       "      <td>13.49%</td>\n",
       "      <td>339.31</td>\n",
       "      <td>C</td>\n",
       "      <td>C1</td>\n",
       "      <td>...</td>\n",
       "      <td>NaN</td>\n",
       "      <td>NaN</td>\n",
       "      <td>NaN</td>\n",
       "      <td>NaN</td>\n",
       "      <td>0.0</td>\n",
       "      <td>0.0</td>\n",
       "      <td>NaN</td>\n",
       "      <td>NaN</td>\n",
       "      <td>NaN</td>\n",
       "      <td>NaN</td>\n",
       "    </tr>\n",
       "    <tr>\n",
       "      <th>4</th>\n",
       "      <td>1075358</td>\n",
       "      <td>1311748</td>\n",
       "      <td>3000</td>\n",
       "      <td>3000</td>\n",
       "      <td>3000.0</td>\n",
       "      <td>60 months</td>\n",
       "      <td>12.69%</td>\n",
       "      <td>67.79</td>\n",
       "      <td>B</td>\n",
       "      <td>B5</td>\n",
       "      <td>...</td>\n",
       "      <td>NaN</td>\n",
       "      <td>NaN</td>\n",
       "      <td>NaN</td>\n",
       "      <td>NaN</td>\n",
       "      <td>0.0</td>\n",
       "      <td>0.0</td>\n",
       "      <td>NaN</td>\n",
       "      <td>NaN</td>\n",
       "      <td>NaN</td>\n",
       "      <td>NaN</td>\n",
       "    </tr>\n",
       "  </tbody>\n",
       "</table>\n",
       "<p>5 rows × 111 columns</p>\n",
       "</div>"
      ],
      "text/plain": [
       "        id  member_id  loan_amnt  funded_amnt  funded_amnt_inv        term  \\\n",
       "0  1077501    1296599       5000         5000           4975.0   36 months   \n",
       "1  1077430    1314167       2500         2500           2500.0   60 months   \n",
       "2  1077175    1313524       2400         2400           2400.0   36 months   \n",
       "3  1076863    1277178      10000        10000          10000.0   36 months   \n",
       "4  1075358    1311748       3000         3000           3000.0   60 months   \n",
       "\n",
       "  int_rate  installment grade sub_grade  ... num_tl_90g_dpd_24m  \\\n",
       "0   10.65%       162.87     B        B2  ...                NaN   \n",
       "1   15.27%        59.83     C        C4  ...                NaN   \n",
       "2   15.96%        84.33     C        C5  ...                NaN   \n",
       "3   13.49%       339.31     C        C1  ...                NaN   \n",
       "4   12.69%        67.79     B        B5  ...                NaN   \n",
       "\n",
       "  num_tl_op_past_12m pct_tl_nvr_dlq  percent_bc_gt_75 pub_rec_bankruptcies  \\\n",
       "0                NaN            NaN               NaN                  0.0   \n",
       "1                NaN            NaN               NaN                  0.0   \n",
       "2                NaN            NaN               NaN                  0.0   \n",
       "3                NaN            NaN               NaN                  0.0   \n",
       "4                NaN            NaN               NaN                  0.0   \n",
       "\n",
       "  tax_liens tot_hi_cred_lim total_bal_ex_mort total_bc_limit  \\\n",
       "0       0.0             NaN               NaN            NaN   \n",
       "1       0.0             NaN               NaN            NaN   \n",
       "2       0.0             NaN               NaN            NaN   \n",
       "3       0.0             NaN               NaN            NaN   \n",
       "4       0.0             NaN               NaN            NaN   \n",
       "\n",
       "  total_il_high_credit_limit  \n",
       "0                        NaN  \n",
       "1                        NaN  \n",
       "2                        NaN  \n",
       "3                        NaN  \n",
       "4                        NaN  \n",
       "\n",
       "[5 rows x 111 columns]"
      ]
     },
     "execution_count": 4,
     "metadata": {},
     "output_type": "execute_result"
    }
   ],
   "source": [
    "data_raw.head()"
   ]
  },
  {
   "cell_type": "code",
   "execution_count": 5,
   "id": "a99e3bb4",
   "metadata": {},
   "outputs": [
    {
     "name": "stdout",
     "output_type": "stream",
     "text": [
      "<class 'pandas.core.frame.DataFrame'>\n",
      "RangeIndex: 39717 entries, 0 to 39716\n",
      "Columns: 111 entries, id to total_il_high_credit_limit\n",
      "dtypes: float64(74), int64(13), object(24)\n",
      "memory usage: 33.6+ MB\n"
     ]
    }
   ],
   "source": [
    "data_raw.info()"
   ]
  },
  {
   "cell_type": "markdown",
   "id": "a3ea2fb2",
   "metadata": {},
   "source": [
    "#Lets check the number of total records and columns\n",
    "#total count 39717\n",
    "#total columns are 111"
   ]
  },
  {
   "cell_type": "code",
   "execution_count": 6,
   "id": "dfd3bf5a",
   "metadata": {},
   "outputs": [
    {
     "data": {
      "text/plain": [
       "(39717, 111)"
      ]
     },
     "execution_count": 6,
     "metadata": {},
     "output_type": "execute_result"
    }
   ],
   "source": [
    "data_raw.shape"
   ]
  },
  {
   "cell_type": "code",
   "execution_count": 7,
   "id": "e31a867a",
   "metadata": {},
   "outputs": [
    {
     "data": {
      "text/plain": [
       "id                                0\n",
       "member_id                         0\n",
       "loan_amnt                         0\n",
       "funded_amnt                       0\n",
       "funded_amnt_inv                   0\n",
       "                              ...  \n",
       "tax_liens                        39\n",
       "tot_hi_cred_lim               39717\n",
       "total_bal_ex_mort             39717\n",
       "total_bc_limit                39717\n",
       "total_il_high_credit_limit    39717\n",
       "Length: 111, dtype: int64"
      ]
     },
     "execution_count": 7,
     "metadata": {},
     "output_type": "execute_result"
    }
   ],
   "source": [
    "data_nulls = data_raw.isnull().sum()\n",
    "data_nulls"
   ]
  },
  {
   "cell_type": "markdown",
   "id": "097e0639",
   "metadata": {},
   "source": [
    "#There are many columns which are having null values\n",
    "#lets analyse using the graph before dropping it"
   ]
  },
  {
   "cell_type": "code",
   "execution_count": 8,
   "id": "94a557e3",
   "metadata": {},
   "outputs": [
    {
     "data": {
      "text/plain": [
       "<AxesSubplot:ylabel='Frequency'>"
      ]
     },
     "execution_count": 8,
     "metadata": {},
     "output_type": "execute_result"
    },
    {
     "data": {
      "image/png": "[encoded data removed]",
      "text/plain": [
       "<Figure size 1080x288 with 1 Axes>"
      ]
     },
     "metadata": {
      "needs_background": "light"
     },
     "output_type": "display_data"
    }
   ],
   "source": [
    "data_nulls.plot(kind='hist', bins=25, figsize = (15,4))"
   ]
  },
  {
   "cell_type": "markdown",
   "id": "3c834d4d",
   "metadata": {},
   "source": [
    "#x-axis contains number of null values\n",
    "#y-axis contains number of columns \n",
    "#lets check the columns having more than 10k nulls and drop them."
   ]
  },
  {
   "cell_type": "code",
   "execution_count": 28,
   "id": "c5628eb6",
   "metadata": {},
   "outputs": [
    {
     "data": {
      "text/plain": [
       "next_pymnt_d              38577\n",
       "mths_since_last_record    36931\n",
       "mths_since_last_delinq    25682\n",
       "desc                      12940\n",
       "dtype: int64"
      ]
     },
     "execution_count": 28,
     "metadata": {},
     "output_type": "execute_result"
    }
   ],
   "source": [
    "data_nulls.loc[ (data_nulls.values > 10000) & (data_nulls.values < 39717) ].sort_values(ascending=False)"
   ]
  },
  {
   "cell_type": "markdown",
   "id": "65548e66",
   "metadata": {},
   "source": [
    "#Dropping the the above columns having more than 10k nulls records using drop\n",
    "#inplace=True ,the removing is done on the current DataFrame"
   ]
  },
  {
   "cell_type": "code",
   "execution_count": 29,
   "id": "6102b814",
   "metadata": {},
   "outputs": [],
   "source": [
    "data_loan = data_raw.drop(columns = list(data_nulls[data_nulls.values > 10000].index))"
   ]
  },
  {
   "cell_type": "code",
   "execution_count": 30,
   "id": "37fffe74",
   "metadata": {},
   "outputs": [
    {
     "data": {
      "text/plain": [
       "(39717, 53)"
      ]
     },
     "execution_count": 30,
     "metadata": {},
     "output_type": "execute_result"
    }
   ],
   "source": [
    "data_loan.shape"
   ]
  },
  {
   "cell_type": "markdown",
   "id": "703ac4d6",
   "metadata": {},
   "source": [
    "#As you can see above the columns has been reduced from 111 to 53 "
   ]
  },
  {
   "cell_type": "code",
   "execution_count": 98,
   "id": "c18fa498",
   "metadata": {},
   "outputs": [],
   "source": [
    "# r=data_loan.isnull().sum(axis=1)/len(data_loan.columns)\n",
    "# max(r.values)"
   ]
  },
  {
   "cell_type": "code",
   "execution_count": 12,
   "id": "23b7ee16",
   "metadata": {},
   "outputs": [
    {
     "name": "stdout",
     "output_type": "stream",
     "text": [
      "id                            39717\n",
      "member_id                     39717\n",
      "url                           39717\n",
      "total_pymnt                   37850\n",
      "total_pymnt_inv               37518\n",
      "total_rec_int                 35148\n",
      "last_pymnt_amnt               34930\n",
      "emp_title                     28820\n",
      "revol_bal                     21711\n",
      "title                         19615\n",
      "installment                   15383\n",
      "funded_amnt_inv                8205\n",
      "total_rec_prncp                7976\n",
      "annual_inc                     5318\n",
      "recoveries                     4040\n",
      "dti                            2868\n",
      "collection_recovery_fee        2616\n",
      "total_rec_late_fee             1356\n",
      "out_prncp_inv                  1138\n",
      "out_prncp                      1137\n",
      "revol_util                     1089\n",
      "funded_amnt                    1041\n",
      "loan_amnt                       885\n",
      "zip_code                        823\n",
      "earliest_cr_line                526\n",
      "int_rate                        371\n",
      "last_credit_pull_d              106\n",
      "last_pymnt_d                    101\n",
      "total_acc                        82\n",
      "issue_d                          55\n",
      "addr_state                       50\n",
      "open_acc                         40\n",
      "sub_grade                        35\n",
      "purpose                          14\n",
      "delinq_2yrs                      11\n",
      "emp_length                       11\n",
      "inq_last_6mths                    9\n",
      "grade                             7\n",
      "pub_rec                           5\n",
      "home_ownership                    5\n",
      "loan_status                       3\n",
      "verification_status               3\n",
      "pub_rec_bankruptcies              3\n",
      "term                              2\n",
      "initial_list_status               1\n",
      "pymnt_plan                        1\n",
      "collections_12_mths_ex_med        1\n",
      "policy_code                       1\n",
      "application_type                  1\n",
      "acc_now_delinq                    1\n",
      "chargeoff_within_12_mths          1\n",
      "delinq_amnt                       1\n",
      "tax_liens                         1\n",
      "dtype: int64\n"
     ]
    }
   ],
   "source": [
    "data_loan_unique_cols =data_loan.nunique().sort_values(ascending=False)\n",
    "print(data_loan_unique_cols)"
   ]
  },
  {
   "cell_type": "markdown",
   "id": "5fd72de1",
   "metadata": {},
   "source": [
    "#as you can see above id , member_id and url are having unique values\n",
    "#also lets find and drop the columns having single unique value."
   ]
  },
  {
   "cell_type": "code",
   "execution_count": 31,
   "id": "51ef1456",
   "metadata": {},
   "outputs": [],
   "source": [
    "x1 = data_loan_unique_cols[data_loan_unique_cols == 1]"
   ]
  },
  {
   "cell_type": "code",
   "execution_count": 32,
   "id": "bbb1f5e2",
   "metadata": {},
   "outputs": [],
   "source": [
    "# x1.values\n",
    "# x1.index\n",
    "data_loan.drop(columns = list(x1.index), inplace=True)\n"
   ]
  },
  {
   "cell_type": "code",
   "execution_count": 33,
   "id": "3f331fed",
   "metadata": {},
   "outputs": [
    {
     "data": {
      "text/plain": [
       "(39717, 44)"
      ]
     },
     "execution_count": 33,
     "metadata": {},
     "output_type": "execute_result"
    }
   ],
   "source": [
    "data_loan.shape"
   ]
  },
  {
   "cell_type": "code",
   "execution_count": 34,
   "id": "ea254b0a",
   "metadata": {},
   "outputs": [
    {
     "data": {
      "text/plain": [
       "id                         39717\n",
       "url                        39717\n",
       "member_id                  39717\n",
       "total_pymnt                37850\n",
       "total_pymnt_inv            37518\n",
       "total_rec_int              35148\n",
       "last_pymnt_amnt            34930\n",
       "emp_title                  28820\n",
       "revol_bal                  21711\n",
       "title                      19615\n",
       "installment                15383\n",
       "funded_amnt_inv             8205\n",
       "total_rec_prncp             7976\n",
       "annual_inc                  5318\n",
       "recoveries                  4040\n",
       "dti                         2868\n",
       "collection_recovery_fee     2616\n",
       "total_rec_late_fee          1356\n",
       "out_prncp_inv               1138\n",
       "out_prncp                   1137\n",
       "revol_util                  1089\n",
       "funded_amnt                 1041\n",
       "loan_amnt                    885\n",
       "zip_code                     823\n",
       "earliest_cr_line             526\n",
       "int_rate                     371\n",
       "last_credit_pull_d           106\n",
       "last_pymnt_d                 101\n",
       "total_acc                     82\n",
       "issue_d                       55\n",
       "addr_state                    50\n",
       "open_acc                      40\n",
       "sub_grade                     35\n",
       "purpose                       14\n",
       "delinq_2yrs                   11\n",
       "emp_length                    11\n",
       "inq_last_6mths                 9\n",
       "grade                          7\n",
       "pub_rec                        5\n",
       "home_ownership                 5\n",
       "loan_status                    3\n",
       "verification_status            3\n",
       "pub_rec_bankruptcies           3\n",
       "term                           2\n",
       "dtype: int64"
      ]
     },
     "execution_count": 34,
     "metadata": {},
     "output_type": "execute_result"
    }
   ],
   "source": [
    "data_loan.nunique().sort_values(ascending=False)"
   ]
  },
  {
   "cell_type": "markdown",
   "id": "7f27b171",
   "metadata": {},
   "source": [
    "#he fields that are created after a loan application is approved doesn't make sense for our analysis towards the business objective.\n",
    "#Also fields like id, member_id & url are different for each application and Therefore, let us drop all these columns mentioned below"
   ]
  },
  {
   "cell_type": "code",
   "execution_count": 35,
   "id": "b104b5fa",
   "metadata": {},
   "outputs": [],
   "source": [
    "data_del_cols = [\"id\",\"member_id\",\"url\",\"zip_code\",\"out_prncp\",\"out_prncp_inv\",\"total_pymnt\",\"total_pymnt_inv\",\n",
    "            \"total_rec_prncp\",\"total_rec_int\",\"total_rec_late_fee\",\"recoveries\",\"collection_recovery_fee\",\n",
    "            \"last_pymnt_d\",\"last_pymnt_amnt\",\"last_credit_pull_d\"]\n",
    "data_loan.drop(columns=data_del_cols, inplace=True)"
   ]
  },
  {
   "cell_type": "code",
   "execution_count": 36,
   "id": "f7b2550f",
   "metadata": {},
   "outputs": [
    {
     "data": {
      "text/plain": [
       "(39717, 28)"
      ]
     },
     "execution_count": 36,
     "metadata": {},
     "output_type": "execute_result"
    }
   ],
   "source": [
    "data_loan.shape"
   ]
  },
  {
   "cell_type": "code",
   "execution_count": null,
   "id": "ec1eb7d4",
   "metadata": {},
   "outputs": [],
   "source": [
    "data_loan.info()"
   ]
  },
  {
   "cell_type": "code",
   "execution_count": 19,
   "id": "c4c0cdb1",
   "metadata": {},
   "outputs": [
    {
     "data": {
      "text/html": [
       "<div>\n",
       "<style scoped>\n",
       "    .dataframe tbody tr th:only-of-type {\n",
       "        vertical-align: middle;\n",
       "    }\n",
       "\n",
       "    .dataframe tbody tr th {\n",
       "        vertical-align: top;\n",
       "    }\n",
       "\n",
       "    .dataframe thead th {\n",
       "        text-align: right;\n",
       "    }\n",
       "</style>\n",
       "<table border=\"1\" class=\"dataframe\">\n",
       "  <thead>\n",
       "    <tr style=\"text-align: right;\">\n",
       "      <th></th>\n",
       "      <th>loan_amnt</th>\n",
       "      <th>funded_amnt</th>\n",
       "      <th>funded_amnt_inv</th>\n",
       "      <th>installment</th>\n",
       "      <th>annual_inc</th>\n",
       "      <th>dti</th>\n",
       "      <th>delinq_2yrs</th>\n",
       "      <th>inq_last_6mths</th>\n",
       "      <th>open_acc</th>\n",
       "      <th>pub_rec</th>\n",
       "      <th>revol_bal</th>\n",
       "      <th>total_acc</th>\n",
       "      <th>collections_12_mths_ex_med</th>\n",
       "      <th>policy_code</th>\n",
       "      <th>acc_now_delinq</th>\n",
       "      <th>chargeoff_within_12_mths</th>\n",
       "      <th>delinq_amnt</th>\n",
       "      <th>pub_rec_bankruptcies</th>\n",
       "      <th>tax_liens</th>\n",
       "    </tr>\n",
       "  </thead>\n",
       "  <tbody>\n",
       "    <tr>\n",
       "      <th>count</th>\n",
       "      <td>39717.000000</td>\n",
       "      <td>39717.000000</td>\n",
       "      <td>39717.000000</td>\n",
       "      <td>39717.000000</td>\n",
       "      <td>3.971700e+04</td>\n",
       "      <td>39717.000000</td>\n",
       "      <td>39717.000000</td>\n",
       "      <td>39717.000000</td>\n",
       "      <td>39717.000000</td>\n",
       "      <td>39717.000000</td>\n",
       "      <td>39717.000000</td>\n",
       "      <td>39717.000000</td>\n",
       "      <td>39661.0</td>\n",
       "      <td>39717.0</td>\n",
       "      <td>39717.0</td>\n",
       "      <td>39661.0</td>\n",
       "      <td>39717.0</td>\n",
       "      <td>39020.000000</td>\n",
       "      <td>39678.0</td>\n",
       "    </tr>\n",
       "    <tr>\n",
       "      <th>mean</th>\n",
       "      <td>11219.443815</td>\n",
       "      <td>10947.713196</td>\n",
       "      <td>10397.448868</td>\n",
       "      <td>324.561922</td>\n",
       "      <td>6.896893e+04</td>\n",
       "      <td>13.315130</td>\n",
       "      <td>0.146512</td>\n",
       "      <td>0.869200</td>\n",
       "      <td>9.294408</td>\n",
       "      <td>0.055065</td>\n",
       "      <td>13382.528086</td>\n",
       "      <td>22.088828</td>\n",
       "      <td>0.0</td>\n",
       "      <td>1.0</td>\n",
       "      <td>0.0</td>\n",
       "      <td>0.0</td>\n",
       "      <td>0.0</td>\n",
       "      <td>0.043260</td>\n",
       "      <td>0.0</td>\n",
       "    </tr>\n",
       "    <tr>\n",
       "      <th>std</th>\n",
       "      <td>7456.670694</td>\n",
       "      <td>7187.238670</td>\n",
       "      <td>7128.450439</td>\n",
       "      <td>208.874874</td>\n",
       "      <td>6.379377e+04</td>\n",
       "      <td>6.678594</td>\n",
       "      <td>0.491812</td>\n",
       "      <td>1.070219</td>\n",
       "      <td>4.400282</td>\n",
       "      <td>0.237200</td>\n",
       "      <td>15885.016641</td>\n",
       "      <td>11.401709</td>\n",
       "      <td>0.0</td>\n",
       "      <td>0.0</td>\n",
       "      <td>0.0</td>\n",
       "      <td>0.0</td>\n",
       "      <td>0.0</td>\n",
       "      <td>0.204324</td>\n",
       "      <td>0.0</td>\n",
       "    </tr>\n",
       "    <tr>\n",
       "      <th>min</th>\n",
       "      <td>500.000000</td>\n",
       "      <td>500.000000</td>\n",
       "      <td>0.000000</td>\n",
       "      <td>15.690000</td>\n",
       "      <td>4.000000e+03</td>\n",
       "      <td>0.000000</td>\n",
       "      <td>0.000000</td>\n",
       "      <td>0.000000</td>\n",
       "      <td>2.000000</td>\n",
       "      <td>0.000000</td>\n",
       "      <td>0.000000</td>\n",
       "      <td>2.000000</td>\n",
       "      <td>0.0</td>\n",
       "      <td>1.0</td>\n",
       "      <td>0.0</td>\n",
       "      <td>0.0</td>\n",
       "      <td>0.0</td>\n",
       "      <td>0.000000</td>\n",
       "      <td>0.0</td>\n",
       "    </tr>\n",
       "    <tr>\n",
       "      <th>25%</th>\n",
       "      <td>5500.000000</td>\n",
       "      <td>5400.000000</td>\n",
       "      <td>5000.000000</td>\n",
       "      <td>167.020000</td>\n",
       "      <td>4.040400e+04</td>\n",
       "      <td>8.170000</td>\n",
       "      <td>0.000000</td>\n",
       "      <td>0.000000</td>\n",
       "      <td>6.000000</td>\n",
       "      <td>0.000000</td>\n",
       "      <td>3703.000000</td>\n",
       "      <td>13.000000</td>\n",
       "      <td>0.0</td>\n",
       "      <td>1.0</td>\n",
       "      <td>0.0</td>\n",
       "      <td>0.0</td>\n",
       "      <td>0.0</td>\n",
       "      <td>0.000000</td>\n",
       "      <td>0.0</td>\n",
       "    </tr>\n",
       "    <tr>\n",
       "      <th>50%</th>\n",
       "      <td>10000.000000</td>\n",
       "      <td>9600.000000</td>\n",
       "      <td>8975.000000</td>\n",
       "      <td>280.220000</td>\n",
       "      <td>5.900000e+04</td>\n",
       "      <td>13.400000</td>\n",
       "      <td>0.000000</td>\n",
       "      <td>1.000000</td>\n",
       "      <td>9.000000</td>\n",
       "      <td>0.000000</td>\n",
       "      <td>8850.000000</td>\n",
       "      <td>20.000000</td>\n",
       "      <td>0.0</td>\n",
       "      <td>1.0</td>\n",
       "      <td>0.0</td>\n",
       "      <td>0.0</td>\n",
       "      <td>0.0</td>\n",
       "      <td>0.000000</td>\n",
       "      <td>0.0</td>\n",
       "    </tr>\n",
       "    <tr>\n",
       "      <th>75%</th>\n",
       "      <td>15000.000000</td>\n",
       "      <td>15000.000000</td>\n",
       "      <td>14400.000000</td>\n",
       "      <td>430.780000</td>\n",
       "      <td>8.230000e+04</td>\n",
       "      <td>18.600000</td>\n",
       "      <td>0.000000</td>\n",
       "      <td>1.000000</td>\n",
       "      <td>12.000000</td>\n",
       "      <td>0.000000</td>\n",
       "      <td>17058.000000</td>\n",
       "      <td>29.000000</td>\n",
       "      <td>0.0</td>\n",
       "      <td>1.0</td>\n",
       "      <td>0.0</td>\n",
       "      <td>0.0</td>\n",
       "      <td>0.0</td>\n",
       "      <td>0.000000</td>\n",
       "      <td>0.0</td>\n",
       "    </tr>\n",
       "    <tr>\n",
       "      <th>max</th>\n",
       "      <td>35000.000000</td>\n",
       "      <td>35000.000000</td>\n",
       "      <td>35000.000000</td>\n",
       "      <td>1305.190000</td>\n",
       "      <td>6.000000e+06</td>\n",
       "      <td>29.990000</td>\n",
       "      <td>11.000000</td>\n",
       "      <td>8.000000</td>\n",
       "      <td>44.000000</td>\n",
       "      <td>4.000000</td>\n",
       "      <td>149588.000000</td>\n",
       "      <td>90.000000</td>\n",
       "      <td>0.0</td>\n",
       "      <td>1.0</td>\n",
       "      <td>0.0</td>\n",
       "      <td>0.0</td>\n",
       "      <td>0.0</td>\n",
       "      <td>2.000000</td>\n",
       "      <td>0.0</td>\n",
       "    </tr>\n",
       "  </tbody>\n",
       "</table>\n",
       "</div>"
      ],
      "text/plain": [
       "          loan_amnt   funded_amnt  funded_amnt_inv   installment  \\\n",
       "count  39717.000000  39717.000000     39717.000000  39717.000000   \n",
       "mean   11219.443815  10947.713196     10397.448868    324.561922   \n",
       "std     7456.670694   7187.238670      7128.450439    208.874874   \n",
       "min      500.000000    500.000000         0.000000     15.690000   \n",
       "25%     5500.000000   5400.000000      5000.000000    167.020000   \n",
       "50%    10000.000000   9600.000000      8975.000000    280.220000   \n",
       "75%    15000.000000  15000.000000     14400.000000    430.780000   \n",
       "max    35000.000000  35000.000000     35000.000000   1305.190000   \n",
       "\n",
       "         annual_inc           dti   delinq_2yrs  inq_last_6mths      open_acc  \\\n",
       "count  3.971700e+04  39717.000000  39717.000000    39717.000000  39717.000000   \n",
       "mean   6.896893e+04     13.315130      0.146512        0.869200      9.294408   \n",
       "std    6.379377e+04      6.678594      0.491812        1.070219      4.400282   \n",
       "min    4.000000e+03      0.000000      0.000000        0.000000      2.000000   \n",
       "25%    4.040400e+04      8.170000      0.000000        0.000000      6.000000   \n",
       "50%    5.900000e+04     13.400000      0.000000        1.000000      9.000000   \n",
       "75%    8.230000e+04     18.600000      0.000000        1.000000     12.000000   \n",
       "max    6.000000e+06     29.990000     11.000000        8.000000     44.000000   \n",
       "\n",
       "            pub_rec      revol_bal     total_acc  collections_12_mths_ex_med  \\\n",
       "count  39717.000000   39717.000000  39717.000000                     39661.0   \n",
       "mean       0.055065   13382.528086     22.088828                         0.0   \n",
       "std        0.237200   15885.016641     11.401709                         0.0   \n",
       "min        0.000000       0.000000      2.000000                         0.0   \n",
       "25%        0.000000    3703.000000     13.000000                         0.0   \n",
       "50%        0.000000    8850.000000     20.000000                         0.0   \n",
       "75%        0.000000   17058.000000     29.000000                         0.0   \n",
       "max        4.000000  149588.000000     90.000000                         0.0   \n",
       "\n",
       "       policy_code  acc_now_delinq  chargeoff_within_12_mths  delinq_amnt  \\\n",
       "count      39717.0         39717.0                   39661.0      39717.0   \n",
       "mean           1.0             0.0                       0.0          0.0   \n",
       "std            0.0             0.0                       0.0          0.0   \n",
       "min            1.0             0.0                       0.0          0.0   \n",
       "25%            1.0             0.0                       0.0          0.0   \n",
       "50%            1.0             0.0                       0.0          0.0   \n",
       "75%            1.0             0.0                       0.0          0.0   \n",
       "max            1.0             0.0                       0.0          0.0   \n",
       "\n",
       "       pub_rec_bankruptcies  tax_liens  \n",
       "count          39020.000000    39678.0  \n",
       "mean               0.043260        0.0  \n",
       "std                0.204324        0.0  \n",
       "min                0.000000        0.0  \n",
       "25%                0.000000        0.0  \n",
       "50%                0.000000        0.0  \n",
       "75%                0.000000        0.0  \n",
       "max                2.000000        0.0  "
      ]
     },
     "execution_count": 19,
     "metadata": {},
     "output_type": "execute_result"
    }
   ],
   "source": [
    "data_loan.describe()"
   ]
  },
  {
   "cell_type": "code",
   "execution_count": 37,
   "id": "dd779c34",
   "metadata": {},
   "outputs": [
    {
     "data": {
      "text/plain": [
       "Index(['loan_amnt', 'funded_amnt', 'funded_amnt_inv', 'term', 'int_rate',\n",
       "       'installment', 'grade', 'sub_grade', 'emp_title', 'emp_length',\n",
       "       'home_ownership', 'annual_inc', 'verification_status', 'issue_d',\n",
       "       'loan_status', 'purpose', 'title', 'addr_state', 'dti', 'delinq_2yrs',\n",
       "       'earliest_cr_line', 'inq_last_6mths', 'open_acc', 'pub_rec',\n",
       "       'revol_bal', 'revol_util', 'total_acc', 'pub_rec_bankruptcies'],\n",
       "      dtype='object')"
      ]
     },
     "execution_count": 37,
     "metadata": {},
     "output_type": "execute_result"
    }
   ],
   "source": [
    "data_loan.columns"
   ]
  },
  {
   "cell_type": "code",
   "execution_count": null,
   "id": "1e229280",
   "metadata": {},
   "outputs": [],
   "source": []
  },
  {
   "cell_type": "markdown",
   "id": "1b55623c",
   "metadata": {},
   "source": [
    "# Univariate Analysis"
   ]
  },
  {
   "cell_type": "code",
   "execution_count": 44,
   "id": "9f459a7c",
   "metadata": {},
   "outputs": [],
   "source": [
    "def func_univariate(x):\n",
    "    #Increasing the figure size of plot\n",
    "    plt.figure(figsize=(12,4))\n",
    "    #Setting subplot index\n",
    "    plt.subplot(1,2,1)\n",
    "    #Box plot\n",
    "    sns.boxplot(data=data_loan[x])\n",
    "    return plt.show()"
   ]
  },
  {
   "cell_type": "code",
   "execution_count": 45,
   "id": "c829ef13",
   "metadata": {},
   "outputs": [],
   "source": [
    "def func_univariate_box(x):\n",
    "    var = x\n",
    "    #Probability / Percentage of each values\n",
    "    prob_df = data_loan[var].value_counts(normalize=True).reset_index()\n",
    "    sns.barplot(x='index', y=var, data=prob_df)\n",
    "    plt.xlabel(var)\n",
    "    plt.ylabel('Proportion')\n",
    "    plt.title(var+' Distribution')\n",
    "    return plt.show()"
   ]
  },
  {
   "cell_type": "code",
   "execution_count": 46,
   "id": "d713efce",
   "metadata": {},
   "outputs": [],
   "source": [
    "def func_stats(x):\n",
    "    return data_loan[x].describe(percentiles=[0.05,0.1,0.25,0.5,0.75,0.9,0.95,0.99])"
   ]
  },
  {
   "cell_type": "markdown",
   "id": "b84448a1",
   "metadata": {},
   "source": [
    "Loan Amount"
   ]
  },
  {
   "cell_type": "code",
   "execution_count": 47,
   "id": "d870e007",
   "metadata": {},
   "outputs": [
    {
     "data": {
      "image/png": "[encoded data removed]",
      "text/plain": [
       "<Figure size 864x288 with 1 Axes>"
      ]
     },
     "metadata": {
      "needs_background": "light"
     },
     "output_type": "display_data"
    }
   ],
   "source": [
    "func_univariate('loan_amnt')"
   ]
  },
  {
   "cell_type": "code",
   "execution_count": 48,
   "id": "e486774b",
   "metadata": {},
   "outputs": [
    {
     "data": {
      "text/plain": [
       "count    38577.000000\n",
       "mean     11047.025430\n",
       "std       7348.441646\n",
       "min        500.000000\n",
       "5%        2400.000000\n",
       "10%       3090.000000\n",
       "25%       5300.000000\n",
       "50%       9600.000000\n",
       "75%      15000.000000\n",
       "90%      21600.000000\n",
       "95%      25000.000000\n",
       "99%      35000.000000\n",
       "max      35000.000000\n",
       "Name: loan_amnt, dtype: float64"
      ]
     },
     "execution_count": 48,
     "metadata": {},
     "output_type": "execute_result"
    }
   ],
   "source": [
    "#Stats of laon amount\n",
    "func_stats('loan_amnt')"
   ]
  },
  {
   "cell_type": "markdown",
   "id": "97fa847f",
   "metadata": {},
   "source": [
    "Observations:\n",
    "From the above plots, more number of people took loan amount of 10000, and also meadian of distribution is 10000. And very few people took more than 30000 loan amount."
   ]
  },
  {
   "cell_type": "code",
   "execution_count": null,
   "id": "01ad94b3",
   "metadata": {},
   "outputs": [],
   "source": [
    "funded_amnt\n",
    "#The total amount committed to that loan at that point in time."
   ]
  },
  {
   "cell_type": "code",
   "execution_count": 235,
   "id": "e007bae2",
   "metadata": {},
   "outputs": [
    {
     "data": {
      "image/png": "[encoded data removed]",
      "text/plain": [
       "<Figure size 864x288 with 1 Axes>"
      ]
     },
     "metadata": {
      "needs_background": "light"
     },
     "output_type": "display_data"
    }
   ],
   "source": [
    "func_univariate('funded_amnt')"
   ]
  },
  {
   "cell_type": "code",
   "execution_count": 50,
   "id": "6d917373",
   "metadata": {},
   "outputs": [
    {
     "data": {
      "text/plain": [
       "count    38577.000000\n",
       "mean     10784.058506\n",
       "std       7090.306027\n",
       "min        500.000000\n",
       "5%        2400.000000\n",
       "10%       3000.000000\n",
       "25%       5200.000000\n",
       "50%       9550.000000\n",
       "75%      15000.000000\n",
       "90%      20000.000000\n",
       "95%      25000.000000\n",
       "99%      35000.000000\n",
       "max      35000.000000\n",
       "Name: funded_amnt, dtype: float64"
      ]
     },
     "execution_count": 50,
     "metadata": {},
     "output_type": "execute_result"
    }
   ],
   "source": [
    "func_stats('funded_amnt')"
   ]
  },
  {
   "cell_type": "code",
   "execution_count": null,
   "id": "663dc786",
   "metadata": {},
   "outputs": [],
   "source": [
    "Observations:\n",
    "Funded amount data behaves similar to loan Amount, Which tells us that Lending club approved most of Applied loan amount."
   ]
  },
  {
   "cell_type": "code",
   "execution_count": null,
   "id": "e0f54927",
   "metadata": {},
   "outputs": [],
   "source": [
    "funded_amnt_inv\n",
    "#The total amount committed by investors for that loan at that point in time."
   ]
  },
  {
   "cell_type": "code",
   "execution_count": 51,
   "id": "c15a3f08",
   "metadata": {},
   "outputs": [
    {
     "data": {
      "image/png": "[encoded data removed]",
      "text/plain": [
       "<Figure size 864x288 with 1 Axes>"
      ]
     },
     "metadata": {
      "needs_background": "light"
     },
     "output_type": "display_data"
    },
    {
     "data": {
      "text/plain": [
       "count    38577.000000\n",
       "mean     10784.058506\n",
       "std       7090.306027\n",
       "min        500.000000\n",
       "5%        2400.000000\n",
       "10%       3000.000000\n",
       "25%       5200.000000\n",
       "50%       9550.000000\n",
       "75%      15000.000000\n",
       "90%      20000.000000\n",
       "95%      25000.000000\n",
       "99%      35000.000000\n",
       "max      35000.000000\n",
       "Name: funded_amnt, dtype: float64"
      ]
     },
     "execution_count": 51,
     "metadata": {},
     "output_type": "execute_result"
    }
   ],
   "source": [
    "func_univariate('funded_amnt')\n",
    "func_stats('funded_amnt')"
   ]
  },
  {
   "cell_type": "code",
   "execution_count": null,
   "id": "c5f9d748",
   "metadata": {},
   "outputs": [],
   "source": [
    "Observations:\n",
    "Funded amount investment data behaves similar to loan Amount, Which tells us that Lending club approved atmost of Applied loan amount."
   ]
  },
  {
   "cell_type": "code",
   "execution_count": null,
   "id": "3df11623",
   "metadata": {},
   "outputs": [],
   "source": [
    "int_rate\n",
    "#Interest Rate on the loan"
   ]
  },
  {
   "cell_type": "code",
   "execution_count": 52,
   "id": "c0f3b49a",
   "metadata": {},
   "outputs": [
    {
     "data": {
      "image/png": "[encoded data removed]",
      "text/plain": [
       "<Figure size 864x288 with 1 Axes>"
      ]
     },
     "metadata": {
      "needs_background": "light"
     },
     "output_type": "display_data"
    },
    {
     "data": {
      "text/plain": [
       "count    38577.000000\n",
       "mean        11.932219\n",
       "std          3.691327\n",
       "min          5.420000\n",
       "5%           6.170000\n",
       "10%          7.140000\n",
       "25%          8.940000\n",
       "50%         11.710000\n",
       "75%         14.380000\n",
       "90%         16.820000\n",
       "95%         18.312000\n",
       "99%         20.990000\n",
       "max         24.400000\n",
       "Name: int_rate, dtype: float64"
      ]
     },
     "execution_count": 52,
     "metadata": {},
     "output_type": "execute_result"
    }
   ],
   "source": [
    "func_univariate('int_rate')\n",
    "func_stats('int_rate')"
   ]
  },
  {
   "cell_type": "code",
   "execution_count": null,
   "id": "6e195e0f",
   "metadata": {},
   "outputs": [],
   "source": [
    "Observations:\n",
    "From the above plot and statistics of interest rates we can conclude that most of the interest rates lies between 9% to 14.5%. Some people took loan at higher rates of interest i.e., 22.5%"
   ]
  },
  {
   "cell_type": "code",
   "execution_count": null,
   "id": "5d39fa77",
   "metadata": {},
   "outputs": [],
   "source": [
    "Installment\n",
    "#The monthly payment owed by the borrower if the loan originates."
   ]
  },
  {
   "cell_type": "code",
   "execution_count": 241,
   "id": "e2d91a36",
   "metadata": {},
   "outputs": [
    {
     "data": {
      "image/png": "[encoded data removed]",
      "text/plain": [
       "<Figure size 864x288 with 1 Axes>"
      ]
     },
     "metadata": {
      "needs_background": "light"
     },
     "output_type": "display_data"
    },
    {
     "data": {
      "text/plain": [
       "count    38577.000000\n",
       "mean       322.466318\n",
       "std        208.639215\n",
       "min         15.690000\n",
       "5%          70.610000\n",
       "10%         98.990000\n",
       "25%        165.740000\n",
       "50%        277.860000\n",
       "75%        425.550000\n",
       "90%        620.900000\n",
       "95%        760.820000\n",
       "99%        931.090000\n",
       "max       1305.190000\n",
       "Name: installment, dtype: float64"
      ]
     },
     "execution_count": 241,
     "metadata": {},
     "output_type": "execute_result"
    }
   ],
   "source": [
    "func_univariate('installment')\n",
    "func_stats('installment')"
   ]
  },
  {
   "cell_type": "code",
   "execution_count": null,
   "id": "f86437a1",
   "metadata": {},
   "outputs": [],
   "source": [
    "Observations:\n",
    "The Most representative value of Installment amount in around 277(approx ~280)."
   ]
  },
  {
   "cell_type": "code",
   "execution_count": null,
   "id": "217a56fe",
   "metadata": {},
   "outputs": [],
   "source": [
    "dti\n",
    "#A ratio calculated using the borrower’s total monthly debt payments on the total debt obligations, excluding mortgage and the requested LC loan, divided by the borrower’s self-reported monthly income."
   ]
  },
  {
   "cell_type": "code",
   "execution_count": 246,
   "id": "2f25e9da",
   "metadata": {},
   "outputs": [
    {
     "data": {
      "image/png": "[encoded data removed]",
      "text/plain": [
       "<Figure size 864x288 with 1 Axes>"
      ]
     },
     "metadata": {
      "needs_background": "light"
     },
     "output_type": "display_data"
    },
    {
     "data": {
      "text/plain": [
       "count    38577.000000\n",
       "mean        13.272727\n",
       "std          6.673044\n",
       "min          0.000000\n",
       "5%           2.100000\n",
       "10%          4.060000\n",
       "25%          8.130000\n",
       "50%         13.370000\n",
       "75%         18.560000\n",
       "90%         22.290000\n",
       "95%         23.800000\n",
       "99%         26.530000\n",
       "max         29.990000\n",
       "Name: dti, dtype: float64"
      ]
     },
     "execution_count": 246,
     "metadata": {},
     "output_type": "execute_result"
    }
   ],
   "source": [
    "func_univariate('dti')\n",
    "func_stats('dti')"
   ]
  },
  {
   "cell_type": "code",
   "execution_count": null,
   "id": "0d1a3104",
   "metadata": {},
   "outputs": [],
   "source": [
    "Observations:\n",
    "By looking at the graph we can say that all the loans are given to barrower's who have Debt to Income ration less than 30."
   ]
  },
  {
   "cell_type": "code",
   "execution_count": null,
   "id": "f02f64c6",
   "metadata": {},
   "outputs": [],
   "source": [
    "Pub rec\n",
    "#Number of Public derogatory records"
   ]
  },
  {
   "cell_type": "code",
   "execution_count": 256,
   "id": "433e3625",
   "metadata": {},
   "outputs": [
    {
     "data": {
      "image/png": "[encoded data removed]",
      "text/plain": [
       "<Figure size 432x288 with 1 Axes>"
      ]
     },
     "metadata": {
      "needs_background": "light"
     },
     "output_type": "display_data"
    }
   ],
   "source": [
    "func_univariate_box('pub_rec')\n"
   ]
  },
  {
   "cell_type": "code",
   "execution_count": null,
   "id": "1a454633",
   "metadata": {},
   "outputs": [],
   "source": [
    "Observations\n",
    "Around 90% borrower's are having no public derogatory records."
   ]
  },
  {
   "cell_type": "code",
   "execution_count": null,
   "id": "a7d49a2e",
   "metadata": {},
   "outputs": [],
   "source": [
    "pub_rec_bankruptcies\n",
    "#Number of public record bankruptcies"
   ]
  },
  {
   "cell_type": "code",
   "execution_count": 255,
   "id": "e35a925f",
   "metadata": {},
   "outputs": [
    {
     "data": {
      "image/png": "[encoded data removed]",
      "text/plain": [
       "<Figure size 432x288 with 1 Axes>"
      ]
     },
     "metadata": {
      "needs_background": "light"
     },
     "output_type": "display_data"
    }
   ],
   "source": [
    "func_univariate_box('pub_rec_bankruptcies')"
   ]
  },
  {
   "cell_type": "code",
   "execution_count": null,
   "id": "5ad49c39",
   "metadata": {},
   "outputs": [],
   "source": [
    "Observations:\n",
    "99% people have not went bankrupt."
   ]
  },
  {
   "cell_type": "code",
   "execution_count": null,
   "id": "72480a9b",
   "metadata": {},
   "outputs": [],
   "source": [
    "issue_d\n",
    "#The month which the loan was funded"
   ]
  },
  {
   "cell_type": "code",
   "execution_count": 260,
   "id": "45fe9a8f",
   "metadata": {},
   "outputs": [
    {
     "data": {
      "image/png": "[encoded data removed]",
      "text/plain": [
       "<Figure size 432x288 with 1 Axes>"
      ]
     },
     "metadata": {
      "needs_background": "light"
     },
     "output_type": "display_data"
    },
    {
     "data": {
      "image/png": "[encoded data removed]",
      "text/plain": [
       "<Figure size 432x288 with 1 Axes>"
      ]
     },
     "metadata": {
      "needs_background": "light"
     },
     "output_type": "display_data"
    }
   ],
   "source": [
    "func_univariate_box('issue_month')\n",
    "func_univariate_box('issue_year')"
   ]
  },
  {
   "cell_type": "code",
   "execution_count": null,
   "id": "656df917",
   "metadata": {},
   "outputs": [],
   "source": [
    "Observations:\n",
    "The lending club(LC) has doubling loan issues every year.\n",
    "There are more issues of loan in last 3 months every end of the ear i.e., Oct, Nov and Dec."
   ]
  },
  {
   "cell_type": "code",
   "execution_count": 261,
   "id": "69806fc0",
   "metadata": {},
   "outputs": [
    {
     "data": {
      "image/png": "[encoded data removed]",
      "text/plain": [
       "<Figure size 432x288 with 1 Axes>"
      ]
     },
     "metadata": {
      "needs_background": "light"
     },
     "output_type": "display_data"
    }
   ],
   "source": [
    "func_univariate_box('term')"
   ]
  },
  {
   "cell_type": "code",
   "execution_count": null,
   "id": "f7087747",
   "metadata": {},
   "outputs": [],
   "source": [
    "Observations:\n",
    "Barrowrs have taken 36 months tenure more than 60 months."
   ]
  },
  {
   "cell_type": "code",
   "execution_count": 262,
   "id": "c060d078",
   "metadata": {},
   "outputs": [
    {
     "data": {
      "image/png": "[encoded data removed]",
      "text/plain": [
       "<Figure size 432x288 with 1 Axes>"
      ]
     },
     "metadata": {
      "needs_background": "light"
     },
     "output_type": "display_data"
    }
   ],
   "source": [
    "func_univariate_box('grade')"
   ]
  },
  {
   "cell_type": "code",
   "execution_count": null,
   "id": "dad9ec64",
   "metadata": {},
   "outputs": [],
   "source": [
    "Observations:\n",
    "Most borrowers fall under A and B grades then other grades"
   ]
  },
  {
   "cell_type": "code",
   "execution_count": null,
   "id": "e4a4c578",
   "metadata": {},
   "outputs": [],
   "source": [
    "emp_length\n",
    "#Employment length in years. Possible values are between 0 and 10 where 0 means less than one year and 10 means ten or more years. "
   ]
  },
  {
   "cell_type": "code",
   "execution_count": 265,
   "id": "0ea7568a",
   "metadata": {},
   "outputs": [
    {
     "data": {
      "image/png": "[encoded data removed]",
      "text/plain": [
       "<Figure size 720x288 with 1 Axes>"
      ]
     },
     "metadata": {
      "needs_background": "light"
     },
     "output_type": "display_data"
    }
   ],
   "source": [
    "plt.figure(figsize=(10,4))\n",
    "var = 'emp_length'\n",
    "prob_df = data_loan[var].value_counts(normalize=True).reset_index()\n",
    "sns.barplot(x='index', y=var, data=prob_df)\n",
    "plt.xlabel(var)\n",
    "plt.ylabel('Proportion')\n",
    "plt.title(var+' Distribution')\n",
    "plt.show()"
   ]
  },
  {
   "cell_type": "code",
   "execution_count": null,
   "id": "d0febc35",
   "metadata": {},
   "outputs": [],
   "source": [
    "Observations:\n",
    "Borrowers are mostly 10+ years emploment length."
   ]
  },
  {
   "cell_type": "code",
   "execution_count": null,
   "id": "b9977361",
   "metadata": {},
   "outputs": [],
   "source": [
    "home_ownership\n",
    "#The home ownership status provided by the borrower during registration. Our values are: RENT, OWN, MORTGAGE, OTHER."
   ]
  },
  {
   "cell_type": "code",
   "execution_count": 267,
   "id": "63c9a96a",
   "metadata": {},
   "outputs": [
    {
     "data": {
      "image/png": "[encoded data removed]",
      "text/plain": [
       "<Figure size 432x288 with 1 Axes>"
      ]
     },
     "metadata": {
      "needs_background": "light"
     },
     "output_type": "display_data"
    }
   ],
   "source": [
    "func_univariate_box('home_ownership')"
   ]
  },
  {
   "cell_type": "code",
   "execution_count": null,
   "id": "8a4abcd1",
   "metadata": {},
   "outputs": [],
   "source": [
    "Observations:\n",
    "The loan borrowers are mostly having rented and mortgage houses."
   ]
  },
  {
   "cell_type": "code",
   "execution_count": null,
   "id": "0b6c056a",
   "metadata": {},
   "outputs": [],
   "source": [
    "verification_status\n",
    "#Indicates if income was verified by LC, not verified, or if the income source was verified"
   ]
  },
  {
   "cell_type": "code",
   "execution_count": 268,
   "id": "cde71f05",
   "metadata": {},
   "outputs": [
    {
     "data": {
      "image/png": "[encoded data removed]",
      "text/plain": [
       "<Figure size 432x288 with 1 Axes>"
      ]
     },
     "metadata": {
      "needs_background": "light"
     },
     "output_type": "display_data"
    }
   ],
   "source": [
    "func_univariate_box('verification_status')"
   ]
  },
  {
   "cell_type": "code",
   "execution_count": null,
   "id": "70141eda",
   "metadata": {},
   "outputs": [],
   "source": [
    "Observations:\n",
    "Majority of loans were given without verification of applicants income."
   ]
  },
  {
   "cell_type": "code",
   "execution_count": null,
   "id": "19c3a5d5",
   "metadata": {},
   "outputs": [],
   "source": [
    "loan_status\n",
    "#Current status of the loan"
   ]
  },
  {
   "cell_type": "code",
   "execution_count": 269,
   "id": "dfd34fff",
   "metadata": {},
   "outputs": [
    {
     "data": {
      "image/png": "[encoded data removed]",
      "text/plain": [
       "<Figure size 432x288 with 1 Axes>"
      ]
     },
     "metadata": {
      "needs_background": "light"
     },
     "output_type": "display_data"
    }
   ],
   "source": [
    "func_univariate_box('loan_status')"
   ]
  },
  {
   "cell_type": "code",
   "execution_count": null,
   "id": "a1cfec01",
   "metadata": {},
   "outputs": [],
   "source": [
    "Observations:\n",
    "More than 80% of borrowers has paid the loan fully. where are less than 14% are defaulted the loan."
   ]
  },
  {
   "cell_type": "code",
   "execution_count": null,
   "id": "82e68dca",
   "metadata": {},
   "outputs": [],
   "source": [
    "purpose\n",
    "#A category provided by the borrower for the loan request. "
   ]
  },
  {
   "cell_type": "code",
   "execution_count": 271,
   "id": "36f3d766",
   "metadata": {},
   "outputs": [
    {
     "data": {
      "image/png": "[encoded data removed]",
      "text/plain": [
       "<Figure size 864x288 with 1 Axes>"
      ]
     },
     "metadata": {
      "needs_background": "light"
     },
     "output_type": "display_data"
    }
   ],
   "source": [
    "plt.figure(figsize=(12,4))\n",
    "var = 'purpose'\n",
    "prob_df = data_loan[var].value_counts(normalize=True).reset_index()\n",
    "sns.barplot(x='index', y=var, data=prob_df)\n",
    "plt.xlabel(var)\n",
    "plt.xticks(rotation=90)\n",
    "plt.ylabel('Proportion')\n",
    "plt.title(var+' Distribution')\n",
    "plt.show()"
   ]
  },
  {
   "cell_type": "code",
   "execution_count": null,
   "id": "3ca37c11",
   "metadata": {},
   "outputs": [],
   "source": [
    "Observations:\n",
    "Looks line more number of people took loan for debt consolidation and a very few people took for renewable energy"
   ]
  },
  {
   "cell_type": "code",
   "execution_count": null,
   "id": "72bc23af",
   "metadata": {},
   "outputs": [],
   "source": [
    "addr_state\n",
    "#The state provided by the borrower in the loan application"
   ]
  },
  {
   "cell_type": "code",
   "execution_count": 273,
   "id": "a578e304",
   "metadata": {},
   "outputs": [
    {
     "data": {
      "image/png": "[encoded data removed]",
      "text/plain": [
       "<Figure size 1440x288 with 1 Axes>"
      ]
     },
     "metadata": {
      "needs_background": "light"
     },
     "output_type": "display_data"
    }
   ],
   "source": [
    "plt.figure(figsize=(20,4))\n",
    "var = 'addr_state'\n",
    "prob_df = data_loan[var].value_counts(normalize=True).reset_index()\n",
    "sns.barplot(x='index', y=var, data=prob_df)\n",
    "plt.xlabel(var)\n",
    "plt.ylabel('Proportion')\n",
    "plt.title(var+' Distribution')\n",
    "plt.show()"
   ]
  },
  {
   "cell_type": "code",
   "execution_count": null,
   "id": "701ae2a9",
   "metadata": {},
   "outputs": [],
   "source": [
    "Observations:\n",
    "Most of the borrowers are from CA and NY"
   ]
  },
  {
   "cell_type": "markdown",
   "id": "b4e3e1fa",
   "metadata": {},
   "source": [
    "# Bivariate Analysis"
   ]
  },
  {
   "cell_type": "code",
   "execution_count": null,
   "id": "2e0996ba",
   "metadata": {},
   "outputs": [],
   "source": [
    "Term vs Loan amount"
   ]
  },
  {
   "cell_type": "code",
   "execution_count": 74,
   "id": "ca790e92",
   "metadata": {},
   "outputs": [
    {
     "data": {
      "image/png": "[encoded data removed]",
      "text/plain": [
       "<Figure size 1440x360 with 1 Axes>"
      ]
     },
     "metadata": {
      "needs_background": "light"
     },
     "output_type": "display_data"
    }
   ],
   "source": [
    "plt.figure(figsize=(20,5))\n",
    "plt.subplot(122)\n",
    "sns.barplot(x='term', y='loan_amnt', hue='loan_status', data=data_loan, estimator=np.median)\n",
    "plt.title('Term vs loan amount')\n",
    "plt.show()"
   ]
  },
  {
   "cell_type": "code",
   "execution_count": null,
   "id": "a2094f47",
   "metadata": {},
   "outputs": [],
   "source": [
    "Observations:\n",
    "Loan amount is not a decider for defaults in both 36 adn 60 months.\n",
    "Borrowers have equal distribtion is both default and non default for 36 and 60 months tenures."
   ]
  },
  {
   "cell_type": "code",
   "execution_count": null,
   "id": "8e41eb43",
   "metadata": {},
   "outputs": [],
   "source": [
    "Term vs int rate"
   ]
  },
  {
   "cell_type": "code",
   "execution_count": 76,
   "id": "1bf677b8",
   "metadata": {},
   "outputs": [
    {
     "data": {
      "image/png": "[encoded data removed]",
      "text/plain": [
       "<Figure size 1440x360 with 1 Axes>"
      ]
     },
     "metadata": {
      "needs_background": "light"
     },
     "output_type": "display_data"
    }
   ],
   "source": [
    "plt.figure(figsize=(20,5))\n",
    "plt.subplot(122)\n",
    "sns.barplot(x='term', y='int_rate', hue='loan_status', data=data_loan, estimator=np.median)\n",
    "plt.title('Term vs Interest rate')\n",
    "plt.show()"
   ]
  },
  {
   "cell_type": "code",
   "execution_count": null,
   "id": "ddbf03ab",
   "metadata": {},
   "outputs": [],
   "source": [
    "Observations\n",
    "For higher interest rates the deafult rate is higher in both 36 and 60 months tenure."
   ]
  },
  {
   "cell_type": "code",
   "execution_count": null,
   "id": "f334fb1a",
   "metadata": {},
   "outputs": [],
   "source": [
    "term vs dti"
   ]
  },
  {
   "cell_type": "code",
   "execution_count": 77,
   "id": "cf825d5f",
   "metadata": {},
   "outputs": [
    {
     "data": {
      "image/png": "[encoded data removed]",
      "text/plain": [
       "<Figure size 1440x360 with 1 Axes>"
      ]
     },
     "metadata": {
      "needs_background": "light"
     },
     "output_type": "display_data"
    }
   ],
   "source": [
    "plt.figure(figsize=(20,5))\n",
    "plt.subplot(122)\n",
    "sns.barplot(x='term', y='dti', hue='loan_status', data=data_loan, estimator=np.median)\n",
    "plt.suptitle('Term vs DTI')\n",
    "plt.show()"
   ]
  },
  {
   "cell_type": "code",
   "execution_count": null,
   "id": "ad6ef3dd",
   "metadata": {},
   "outputs": [],
   "source": [
    "Observations:\n",
    "Comparitively charge-off are higher when compared with fully-paid for the Debit to income ratio."
   ]
  },
  {
   "cell_type": "code",
   "execution_count": null,
   "id": "4ad5b989",
   "metadata": {},
   "outputs": [],
   "source": [
    "Term vs loan amount"
   ]
  },
  {
   "cell_type": "code",
   "execution_count": 84,
   "id": "2a85b9e0",
   "metadata": {},
   "outputs": [
    {
     "data": {
      "image/png": "[encoded data removed]",
      "text/plain": [
       "<Figure size 1440x360 with 1 Axes>"
      ]
     },
     "metadata": {
      "needs_background": "light"
     },
     "output_type": "display_data"
    }
   ],
   "source": [
    "#Sorting Grades from A to G\n",
    "grade_order = data_loan.grade.unique()\n",
    "grade_order.sort()\n",
    "plt.figure(figsize=(20,5))\n",
    "sns.barplot(x='grade', y='loan_amnt', hue='loan_status', data=data_loan, estimator=np.median, order = grade_order)\n",
    "plt.suptitle('Term vs loan amount')\n",
    "plt.show()\n"
   ]
  },
  {
   "cell_type": "code",
   "execution_count": null,
   "id": "649f481d",
   "metadata": {},
   "outputs": [],
   "source": [
    "Observation:\n",
    "The lower grade people has taken higher amount of loans and also they are more prone to default the loan."
   ]
  },
  {
   "cell_type": "code",
   "execution_count": null,
   "id": "9a8591c6",
   "metadata": {},
   "outputs": [],
   "source": [
    "Grade vs Interest Rate"
   ]
  },
  {
   "cell_type": "code",
   "execution_count": 87,
   "id": "50835d0a",
   "metadata": {},
   "outputs": [
    {
     "data": {
      "image/png": "[encoded data removed]",
      "text/plain": [
       "<Figure size 1440x360 with 1 Axes>"
      ]
     },
     "metadata": {
      "needs_background": "light"
     },
     "output_type": "display_data"
    }
   ],
   "source": [
    "plt.figure(figsize=(20,5))\n",
    "plt.subplot(122)\n",
    "sns.barplot(x='grade', y='int_rate', hue='loan_status', data=data_loan, order = grade_ord, estimator=np.median)\n",
    "plt.title('Grade vs Interest Rate')\n",
    "plt.show()"
   ]
  },
  {
   "cell_type": "code",
   "execution_count": null,
   "id": "378a16f6",
   "metadata": {},
   "outputs": [],
   "source": [
    "Observations:\n",
    "As grade decreases the interest rate gradually increases. and they are more and more prone to default the loan."
   ]
  },
  {
   "cell_type": "code",
   "execution_count": null,
   "id": "888c845f",
   "metadata": {},
   "outputs": [],
   "source": [
    "garde vs DTI"
   ]
  },
  {
   "cell_type": "code",
   "execution_count": 88,
   "id": "c95295ec",
   "metadata": {},
   "outputs": [
    {
     "data": {
      "image/png": "[encoded data removed]",
      "text/plain": [
       "<Figure size 1440x360 with 1 Axes>"
      ]
     },
     "metadata": {
      "needs_background": "light"
     },
     "output_type": "display_data"
    }
   ],
   "source": [
    "plt.figure(figsize=(20,5))\n",
    "sns.barplot(x='grade', y='dti', hue='loan_status', data=data_loan, estimator=np.median, order = grade_ord)\n",
    "plt.suptitle('garde vs DTI')\n",
    "plt.show()"
   ]
  },
  {
   "cell_type": "code",
   "execution_count": null,
   "id": "c5e4137e",
   "metadata": {},
   "outputs": [],
   "source": [
    "Observations:\n",
    "There is not much change in dti in each grade and loan status."
   ]
  },
  {
   "cell_type": "code",
   "execution_count": null,
   "id": "7979a625",
   "metadata": {},
   "outputs": [],
   "source": [
    "Term vs loan amount"
   ]
  },
  {
   "cell_type": "code",
   "execution_count": 89,
   "id": "36333b96",
   "metadata": {},
   "outputs": [
    {
     "data": {
      "image/png": "[encoded data removed]",
      "text/plain": [
       "<Figure size 1440x432 with 1 Axes>"
      ]
     },
     "metadata": {
      "needs_background": "light"
     },
     "output_type": "display_data"
    }
   ],
   "source": [
    "plt.figure(figsize=(20,6))\n",
    "plt.subplot(211)\n",
    "sns.barplot(x='emp_length', y='int_rate', hue='loan_status', data=data_loan, estimator=np.median)\n",
    "plt.title('Term vs loan amount')\n",
    "plt.show()"
   ]
  },
  {
   "cell_type": "code",
   "execution_count": null,
   "id": "790257a3",
   "metadata": {},
   "outputs": [],
   "source": [
    "Observations:\n",
    "Irrespictive of employment length loans with more interest rates got defaulted more."
   ]
  },
  {
   "cell_type": "code",
   "execution_count": null,
   "id": "b2dbba8f",
   "metadata": {},
   "outputs": [],
   "source": [
    "Address State"
   ]
  },
  {
   "cell_type": "code",
   "execution_count": 90,
   "id": "139761f1",
   "metadata": {},
   "outputs": [
    {
     "data": {
      "image/png": "[encoded data removed]",
      "text/plain": [
       "<Figure size 1440x432 with 1 Axes>"
      ]
     },
     "metadata": {
      "needs_background": "light"
     },
     "output_type": "display_data"
    },
    {
     "data": {
      "image/png": "[encoded data removed]",
      "text/plain": [
       "<Figure size 1440x432 with 1 Axes>"
      ]
     },
     "metadata": {
      "needs_background": "light"
     },
     "output_type": "display_data"
    }
   ],
   "source": [
    "charged_off_df = data_loan[data_loan.loan_status.values == 'Charged Off']\n",
    "plt.figure(figsize=(20,6))\n",
    "plt.subplot(211)\n",
    "sns.countplot(x='addr_state', data=charged_off_df, order=charged_off_df.addr_state.value_counts().index)\n",
    "plt.title('Address State vs Charged Off')\n",
    "\n",
    "fp_df = data_loan[data_loan.loan_status.values == 'Fully Paid']\n",
    "plt.figure(figsize=(20,6))\n",
    "plt.subplot(212)\n",
    "sns.countplot(x='addr_state', data=fp_df, order=fp_df.addr_state.value_counts().index)\n",
    "plt.title('Address State vs Fully Paid')\n",
    "plt.show()"
   ]
  },
  {
   "cell_type": "code",
   "execution_count": null,
   "id": "a903b5df",
   "metadata": {},
   "outputs": [],
   "source": [
    "Observations:\n",
    "More number of borrowers defaulted in CA  followed by FL and NY states."
   ]
  },
  {
   "cell_type": "code",
   "execution_count": null,
   "id": "e78c67ca",
   "metadata": {},
   "outputs": [],
   "source": [
    "Purpose vs loan amount"
   ]
  },
  {
   "cell_type": "code",
   "execution_count": 95,
   "id": "9ff58691",
   "metadata": {},
   "outputs": [
    {
     "data": {
      "text/plain": [
       "<Figure size 432x288 with 0 Axes>"
      ]
     },
     "metadata": {},
     "output_type": "display_data"
    },
    {
     "data": {
      "image/png": "[encoded data removed]",
      "text/plain": [
       "<Figure size 1440x360 with 1 Axes>"
      ]
     },
     "metadata": {
      "needs_background": "light"
     },
     "output_type": "display_data"
    },
    {
     "data": {
      "image/png": "[encoded data removed]",
      "text/plain": [
       "<Figure size 1440x360 with 1 Axes>"
      ]
     },
     "metadata": {
      "needs_background": "light"
     },
     "output_type": "display_data"
    }
   ],
   "source": [
    "df = data_loan.groupby(['purpose', 'loan_status'], as_index=False)['loan_amnt'].median()\n",
    "\n",
    "plt.suptitle('Purpose vs loan amount')\n",
    "plt.figure(figsize=(20,5))\n",
    "plt.subplot(211)\n",
    "sns.barplot(x='purpose', y='loan_amnt', hue='loan_status', data= data_loan, order=df[df.loan_status == 'Charged Off'].sort_values(by='loan_amnt').purpose, estimator=np.median)\n",
    "plt.xticks(rotation=90)\n",
    "\n",
    "plt.figure(figsize=(20,5))\n",
    "plt.subplot(212)\n",
    "sns.boxplot(x='purpose', y='loan_amnt', hue='loan_status', data= data_loan, order=df[df.loan_status == 'Charged Off'].sort_values(by='loan_amnt').purpose)\n",
    "plt.show()"
   ]
  },
  {
   "cell_type": "code",
   "execution_count": null,
   "id": "98815e94",
   "metadata": {},
   "outputs": [],
   "source": [
    "Observations:\n",
    "Small Business has more defaults when the loan amount is also high."
   ]
  },
  {
   "cell_type": "code",
   "execution_count": null,
   "id": "ddc432ca",
   "metadata": {},
   "outputs": [],
   "source": []
  },
  {
   "cell_type": "code",
   "execution_count": null,
   "id": "50761417",
   "metadata": {},
   "outputs": [],
   "source": []
  },
  {
   "cell_type": "code",
   "execution_count": null,
   "id": "8e68d5ab",
   "metadata": {},
   "outputs": [],
   "source": []
  }
 ],
 "metadata": {
  "kernelspec": {
   "display_name": "Python 3 (ipykernel)",
   "language": "python",
   "name": "python3"
  },
  "language_info": {
   "codemirror_mode": {
    "name": "ipython",
    "version": 3
   },
   "file_extension": ".py",
   "mimetype": "text/x-python",
   "name": "python",
   "nbconvert_exporter": "python",
   "pygments_lexer": "ipython3",
   "version": "3.9.7"
  }
 },
 "nbformat": 4,
 "nbformat_minor": 5
}
