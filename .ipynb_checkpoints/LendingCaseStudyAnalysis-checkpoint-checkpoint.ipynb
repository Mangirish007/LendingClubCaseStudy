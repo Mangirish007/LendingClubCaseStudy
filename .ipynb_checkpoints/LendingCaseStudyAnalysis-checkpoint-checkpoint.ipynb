{
 "cells": [
  {
   "cell_type": "markdown",
   "id": "13a5289b",
   "metadata": {},
   "source": [
    "#  Lending Club Case Study analysis\n"
   ]
  },
  {
   "cell_type": "markdown",
   "id": "473bbc62",
   "metadata": {},
   "source": [
    "#### importing python libraries"
   ]
  },
  {
   "cell_type": "code",
   "execution_count": 5,
   "id": "ece89281",
   "metadata": {},
   "outputs": [],
   "source": [
    "import pandas as pd\n",
    "import numpy as np\n",
    "import matplotlib.pyplot as plt\n",
    "import seaborn as sns"
   ]
  },
  {
   "cell_type": "markdown",
   "id": "89350e8d",
   "metadata": {},
   "source": [
    "#### Reading the loan.csv file"
   ]
  },
  {
   "cell_type": "code",
   "execution_count": 7,
   "id": "cc51fdda",
   "metadata": {},
   "outputs": [],
   "source": [
    "data_raw = pd.read_csv(r\"C:/Users/kavlekar_m/Documents/Upgrade_ML_and_AI/Lending_case_study/data_files/loan.csv\")"
   ]
  },
  {
   "cell_type": "markdown",
   "id": "3c51ef23",
   "metadata": {},
   "source": [
    "#### checking the top 5 rows"
   ]
  },
  {
   "cell_type": "code",
   "execution_count": 8,
   "id": "16c1dd31",
   "metadata": {},
   "outputs": [
    {
     "data": {
      "text/html": [
       "<div>\n",
       "<style scoped>\n",
       "    .dataframe tbody tr th:only-of-type {\n",
       "        vertical-align: middle;\n",
       "    }\n",
       "\n",
       "    .dataframe tbody tr th {\n",
       "        vertical-align: top;\n",
       "    }\n",
       "\n",
       "    .dataframe thead th {\n",
       "        text-align: right;\n",
       "    }\n",
       "</style>\n",
       "<table border=\"1\" class=\"dataframe\">\n",
       "  <thead>\n",
       "    <tr style=\"text-align: right;\">\n",
       "      <th></th>\n",
       "      <th>id</th>\n",
       "      <th>member_id</th>\n",
       "      <th>loan_amnt</th>\n",
       "      <th>funded_amnt</th>\n",
       "      <th>funded_amnt_inv</th>\n",
       "      <th>term</th>\n",
       "      <th>int_rate</th>\n",
       "      <th>installment</th>\n",
       "      <th>grade</th>\n",
       "      <th>sub_grade</th>\n",
       "      <th>...</th>\n",
       "      <th>num_tl_90g_dpd_24m</th>\n",
       "      <th>num_tl_op_past_12m</th>\n",
       "      <th>pct_tl_nvr_dlq</th>\n",
       "      <th>percent_bc_gt_75</th>\n",
       "      <th>pub_rec_bankruptcies</th>\n",
       "      <th>tax_liens</th>\n",
       "      <th>tot_hi_cred_lim</th>\n",
       "      <th>total_bal_ex_mort</th>\n",
       "      <th>total_bc_limit</th>\n",
       "      <th>total_il_high_credit_limit</th>\n",
       "    </tr>\n",
       "  </thead>\n",
       "  <tbody>\n",
       "    <tr>\n",
       "      <th>0</th>\n",
       "      <td>1077501</td>\n",
       "      <td>1296599</td>\n",
       "      <td>5000</td>\n",
       "      <td>5000</td>\n",
       "      <td>4975.0</td>\n",
       "      <td>36 months</td>\n",
       "      <td>10.65%</td>\n",
       "      <td>162.87</td>\n",
       "      <td>B</td>\n",
       "      <td>B2</td>\n",
       "      <td>...</td>\n",
       "      <td>NaN</td>\n",
       "      <td>NaN</td>\n",
       "      <td>NaN</td>\n",
       "      <td>NaN</td>\n",
       "      <td>0.0</td>\n",
       "      <td>0.0</td>\n",
       "      <td>NaN</td>\n",
       "      <td>NaN</td>\n",
       "      <td>NaN</td>\n",
       "      <td>NaN</td>\n",
       "    </tr>\n",
       "    <tr>\n",
       "      <th>1</th>\n",
       "      <td>1077430</td>\n",
       "      <td>1314167</td>\n",
       "      <td>2500</td>\n",
       "      <td>2500</td>\n",
       "      <td>2500.0</td>\n",
       "      <td>60 months</td>\n",
       "      <td>15.27%</td>\n",
       "      <td>59.83</td>\n",
       "      <td>C</td>\n",
       "      <td>C4</td>\n",
       "      <td>...</td>\n",
       "      <td>NaN</td>\n",
       "      <td>NaN</td>\n",
       "      <td>NaN</td>\n",
       "      <td>NaN</td>\n",
       "      <td>0.0</td>\n",
       "      <td>0.0</td>\n",
       "      <td>NaN</td>\n",
       "      <td>NaN</td>\n",
       "      <td>NaN</td>\n",
       "      <td>NaN</td>\n",
       "    </tr>\n",
       "    <tr>\n",
       "      <th>2</th>\n",
       "      <td>1077175</td>\n",
       "      <td>1313524</td>\n",
       "      <td>2400</td>\n",
       "      <td>2400</td>\n",
       "      <td>2400.0</td>\n",
       "      <td>36 months</td>\n",
       "      <td>15.96%</td>\n",
       "      <td>84.33</td>\n",
       "      <td>C</td>\n",
       "      <td>C5</td>\n",
       "      <td>...</td>\n",
       "      <td>NaN</td>\n",
       "      <td>NaN</td>\n",
       "      <td>NaN</td>\n",
       "      <td>NaN</td>\n",
       "      <td>0.0</td>\n",
       "      <td>0.0</td>\n",
       "      <td>NaN</td>\n",
       "      <td>NaN</td>\n",
       "      <td>NaN</td>\n",
       "      <td>NaN</td>\n",
       "    </tr>\n",
       "    <tr>\n",
       "      <th>3</th>\n",
       "      <td>1076863</td>\n",
       "      <td>1277178</td>\n",
       "      <td>10000</td>\n",
       "      <td>10000</td>\n",
       "      <td>10000.0</td>\n",
       "      <td>36 months</td>\n",
       "      <td>13.49%</td>\n",
       "      <td>339.31</td>\n",
       "      <td>C</td>\n",
       "      <td>C1</td>\n",
       "      <td>...</td>\n",
       "      <td>NaN</td>\n",
       "      <td>NaN</td>\n",
       "      <td>NaN</td>\n",
       "      <td>NaN</td>\n",
       "      <td>0.0</td>\n",
       "      <td>0.0</td>\n",
       "      <td>NaN</td>\n",
       "      <td>NaN</td>\n",
       "      <td>NaN</td>\n",
       "      <td>NaN</td>\n",
       "    </tr>\n",
       "    <tr>\n",
       "      <th>4</th>\n",
       "      <td>1075358</td>\n",
       "      <td>1311748</td>\n",
       "      <td>3000</td>\n",
       "      <td>3000</td>\n",
       "      <td>3000.0</td>\n",
       "      <td>60 months</td>\n",
       "      <td>12.69%</td>\n",
       "      <td>67.79</td>\n",
       "      <td>B</td>\n",
       "      <td>B5</td>\n",
       "      <td>...</td>\n",
       "      <td>NaN</td>\n",
       "      <td>NaN</td>\n",
       "      <td>NaN</td>\n",
       "      <td>NaN</td>\n",
       "      <td>0.0</td>\n",
       "      <td>0.0</td>\n",
       "      <td>NaN</td>\n",
       "      <td>NaN</td>\n",
       "      <td>NaN</td>\n",
       "      <td>NaN</td>\n",
       "    </tr>\n",
       "  </tbody>\n",
       "</table>\n",
       "<p>5 rows × 111 columns</p>\n",
       "</div>"
      ],
      "text/plain": [
       "        id  member_id  loan_amnt  funded_amnt  funded_amnt_inv        term  \\\n",
       "0  1077501    1296599       5000         5000           4975.0   36 months   \n",
       "1  1077430    1314167       2500         2500           2500.0   60 months   \n",
       "2  1077175    1313524       2400         2400           2400.0   36 months   \n",
       "3  1076863    1277178      10000        10000          10000.0   36 months   \n",
       "4  1075358    1311748       3000         3000           3000.0   60 months   \n",
       "\n",
       "  int_rate  installment grade sub_grade  ... num_tl_90g_dpd_24m  \\\n",
       "0   10.65%       162.87     B        B2  ...                NaN   \n",
       "1   15.27%        59.83     C        C4  ...                NaN   \n",
       "2   15.96%        84.33     C        C5  ...                NaN   \n",
       "3   13.49%       339.31     C        C1  ...                NaN   \n",
       "4   12.69%        67.79     B        B5  ...                NaN   \n",
       "\n",
       "  num_tl_op_past_12m pct_tl_nvr_dlq  percent_bc_gt_75 pub_rec_bankruptcies  \\\n",
       "0                NaN            NaN               NaN                  0.0   \n",
       "1                NaN            NaN               NaN                  0.0   \n",
       "2                NaN            NaN               NaN                  0.0   \n",
       "3                NaN            NaN               NaN                  0.0   \n",
       "4                NaN            NaN               NaN                  0.0   \n",
       "\n",
       "  tax_liens tot_hi_cred_lim total_bal_ex_mort total_bc_limit  \\\n",
       "0       0.0             NaN               NaN            NaN   \n",
       "1       0.0             NaN               NaN            NaN   \n",
       "2       0.0             NaN               NaN            NaN   \n",
       "3       0.0             NaN               NaN            NaN   \n",
       "4       0.0             NaN               NaN            NaN   \n",
       "\n",
       "  total_il_high_credit_limit  \n",
       "0                        NaN  \n",
       "1                        NaN  \n",
       "2                        NaN  \n",
       "3                        NaN  \n",
       "4                        NaN  \n",
       "\n",
       "[5 rows x 111 columns]"
      ]
     },
     "execution_count": 8,
     "metadata": {},
     "output_type": "execute_result"
    }
   ],
   "source": [
    "data_raw.head()"
   ]
  },
  {
   "cell_type": "code",
   "execution_count": 9,
   "id": "a99e3bb4",
   "metadata": {},
   "outputs": [
    {
     "name": "stdout",
     "output_type": "stream",
     "text": [
      "<class 'pandas.core.frame.DataFrame'>\n",
      "RangeIndex: 39717 entries, 0 to 39716\n",
      "Columns: 111 entries, id to total_il_high_credit_limit\n",
      "dtypes: float64(74), int64(13), object(24)\n",
      "memory usage: 33.6+ MB\n"
     ]
    }
   ],
   "source": [
    "data_raw.info()"
   ]
  },
  {
   "cell_type": "code",
   "execution_count": 10,
   "id": "dfd3bf5a",
   "metadata": {},
   "outputs": [
    {
     "data": {
      "text/plain": [
       "(39717, 111)"
      ]
     },
     "execution_count": 10,
     "metadata": {},
     "output_type": "execute_result"
    }
   ],
   "source": [
    "data_raw.shape"
   ]
  },
  {
   "cell_type": "markdown",
   "id": "3690bba2",
   "metadata": {},
   "source": [
    "### observation :\n",
    "\n",
    "`original loan file contains 39717 records and 111 columns`"
   ]
  },
  {
   "cell_type": "code",
   "execution_count": 11,
   "id": "e31a867a",
   "metadata": {},
   "outputs": [
    {
     "data": {
      "text/plain": [
       "id                                0\n",
       "member_id                         0\n",
       "loan_amnt                         0\n",
       "funded_amnt                       0\n",
       "funded_amnt_inv                   0\n",
       "                              ...  \n",
       "tax_liens                        39\n",
       "tot_hi_cred_lim               39717\n",
       "total_bal_ex_mort             39717\n",
       "total_bc_limit                39717\n",
       "total_il_high_credit_limit    39717\n",
       "Length: 111, dtype: int64"
      ]
     },
     "execution_count": 11,
     "metadata": {},
     "output_type": "execute_result"
    }
   ],
   "source": [
    "data_nulls = data_raw.isnull().sum()\n",
    "data_nulls"
   ]
  },
  {
   "cell_type": "markdown",
   "id": "097e0639",
   "metadata": {},
   "source": [
    "### observation :\n",
    "\n",
    "`There are many columns which are having null values` <BR>\n",
    "`Lets us analyse those using the graph before dropping it`\n"
   ]
  },
  {
   "cell_type": "code",
   "execution_count": 12,
   "id": "94a557e3",
   "metadata": {},
   "outputs": [
    {
     "data": {
      "text/plain": [
       "<AxesSubplot:ylabel='Frequency'>"
      ]
     },
     "execution_count": 12,
     "metadata": {},
     "output_type": "execute_result"
    },
    {
     "data": {
      "image/png": "[encoded data removed]",
      "text/plain": [
       "<Figure size 1080x288 with 1 Axes>"
      ]
     },
     "metadata": {
      "needs_background": "light"
     },
     "output_type": "display_data"
    }
   ],
   "source": [
    "data_nulls.plot(kind='hist', bins=25, figsize = (15,4))"
   ]
  },
  {
   "cell_type": "markdown",
   "id": "3c834d4d",
   "metadata": {},
   "source": [
    "### observation :\n",
    "\n",
    "`x-axis contains number of null values` <BR>\n",
    "`y-axis contains number of columns `\n"
   ]
  },
  {
   "cell_type": "markdown",
   "id": "7effa69e",
   "metadata": {},
   "source": [
    "### We will drop the columns having more than 10k nulls as it will not help us in analysis"
   ]
  },
  {
   "cell_type": "code",
   "execution_count": 28,
   "id": "c5628eb6",
   "metadata": {},
   "outputs": [
    {
     "data": {
      "text/plain": [
       "next_pymnt_d              38577\n",
       "mths_since_last_record    36931\n",
       "mths_since_last_delinq    25682\n",
       "desc                      12940\n",
       "dtype: int64"
      ]
     },
     "execution_count": 28,
     "metadata": {},
     "output_type": "execute_result"
    }
   ],
   "source": [
    "data_nulls.loc[ (data_nulls.values > 10000) & (data_nulls.values < 39717) ].sort_values(ascending=False)"
   ]
  },
  {
   "cell_type": "code",
   "execution_count": 13,
   "id": "69da1cc9",
   "metadata": {},
   "outputs": [],
   "source": [
    "data_loan = data_raw.drop(columns = list(data_nulls[data_nulls.values > 10000].index))"
   ]
  },
  {
   "cell_type": "code",
   "execution_count": 14,
   "id": "6102b814",
   "metadata": {},
   "outputs": [
    {
     "data": {
      "text/plain": [
       "(39717, 53)"
      ]
     },
     "execution_count": 14,
     "metadata": {},
     "output_type": "execute_result"
    }
   ],
   "source": [
    "data_loan.shape"
   ]
  },
  {
   "cell_type": "markdown",
   "id": "845fea81",
   "metadata": {},
   "source": [
    "### observation :\n",
    "\n",
    "`As you can see above the columns has been reduced from 111 to 53`\n"
   ]
  },
  {
   "cell_type": "markdown",
   "id": "5fd768f0",
   "metadata": {},
   "source": [
    "### Analysing the columns having unique values"
   ]
  },
  {
   "cell_type": "code",
   "execution_count": 18,
   "id": "23b7ee16",
   "metadata": {},
   "outputs": [
    {
     "name": "stdout",
     "output_type": "stream",
     "text": [
      "id                            39717\n",
      "member_id                     39717\n",
      "url                           39717\n",
      "total_pymnt                   37850\n",
      "total_pymnt_inv               37518\n",
      "total_rec_int                 35148\n",
      "last_pymnt_amnt               34930\n",
      "emp_title                     28820\n",
      "revol_bal                     21711\n",
      "title                         19615\n",
      "installment                   15383\n",
      "funded_amnt_inv                8205\n",
      "total_rec_prncp                7976\n",
      "annual_inc                     5318\n",
      "recoveries                     4040\n",
      "dti                            2868\n",
      "collection_recovery_fee        2616\n",
      "total_rec_late_fee             1356\n",
      "out_prncp_inv                  1138\n",
      "out_prncp                      1137\n",
      "revol_util                     1089\n",
      "funded_amnt                    1041\n",
      "loan_amnt                       885\n",
      "zip_code                        823\n",
      "earliest_cr_line                526\n",
      "int_rate                        371\n",
      "last_credit_pull_d              106\n",
      "last_pymnt_d                    101\n",
      "total_acc                        82\n",
      "issue_d                          55\n",
      "addr_state                       50\n",
      "open_acc                         40\n",
      "sub_grade                        35\n",
      "purpose                          14\n",
      "delinq_2yrs                      11\n",
      "emp_length                       11\n",
      "inq_last_6mths                    9\n",
      "grade                             7\n",
      "pub_rec                           5\n",
      "home_ownership                    5\n",
      "loan_status                       3\n",
      "verification_status               3\n",
      "pub_rec_bankruptcies              3\n",
      "term                              2\n",
      "initial_list_status               1\n",
      "pymnt_plan                        1\n",
      "collections_12_mths_ex_med        1\n",
      "policy_code                       1\n",
      "application_type                  1\n",
      "acc_now_delinq                    1\n",
      "chargeoff_within_12_mths          1\n",
      "delinq_amnt                       1\n",
      "tax_liens                         1\n",
      "dtype: int64\n"
     ]
    }
   ],
   "source": [
    "data_loan_unique_cols =data_loan.nunique().sort_values(ascending=False)\n",
    "print(data_loan_unique_cols)"
   ]
  },
  {
   "cell_type": "markdown",
   "id": "5fd72de1",
   "metadata": {},
   "source": [
    "### observation :\n",
    "\n",
    "`id, member_id and url are having unique values`<BR>\n",
    "`Also there are few columns which are having single unique value`<BR>\n",
    "`We need to drop this columns as it will not contribute in analysis`\n",
    "\n"
   ]
  },
  {
   "cell_type": "code",
   "execution_count": 19,
   "id": "51ef1456",
   "metadata": {},
   "outputs": [],
   "source": [
    "x1 = data_loan_unique_cols[data_loan_unique_cols == 1]"
   ]
  },
  {
   "cell_type": "code",
   "execution_count": 20,
   "id": "bbb1f5e2",
   "metadata": {},
   "outputs": [],
   "source": [
    "data_loan.drop(columns = list(x1.index), inplace=True)"
   ]
  },
  {
   "cell_type": "code",
   "execution_count": 22,
   "id": "3f331fed",
   "metadata": {},
   "outputs": [
    {
     "data": {
      "text/plain": [
       "(39717, 44)"
      ]
     },
     "execution_count": 22,
     "metadata": {},
     "output_type": "execute_result"
    }
   ],
   "source": [
    "data_loan.shape"
   ]
  },
  {
   "cell_type": "markdown",
   "id": "a7ce986b",
   "metadata": {},
   "source": [
    "### observation :\n",
    "\n",
    "`Now you can see the columns has been reduced from 53 to 44`"
   ]
  },
  {
   "cell_type": "code",
   "execution_count": 23,
   "id": "ea254b0a",
   "metadata": {},
   "outputs": [
    {
     "data": {
      "text/plain": [
       "id                         39717\n",
       "url                        39717\n",
       "member_id                  39717\n",
       "total_pymnt                37850\n",
       "total_pymnt_inv            37518\n",
       "total_rec_int              35148\n",
       "last_pymnt_amnt            34930\n",
       "emp_title                  28820\n",
       "revol_bal                  21711\n",
       "title                      19615\n",
       "installment                15383\n",
       "funded_amnt_inv             8205\n",
       "total_rec_prncp             7976\n",
       "annual_inc                  5318\n",
       "recoveries                  4040\n",
       "dti                         2868\n",
       "collection_recovery_fee     2616\n",
       "total_rec_late_fee          1356\n",
       "out_prncp_inv               1138\n",
       "out_prncp                   1137\n",
       "revol_util                  1089\n",
       "funded_amnt                 1041\n",
       "loan_amnt                    885\n",
       "zip_code                     823\n",
       "earliest_cr_line             526\n",
       "int_rate                     371\n",
       "last_credit_pull_d           106\n",
       "last_pymnt_d                 101\n",
       "total_acc                     82\n",
       "issue_d                       55\n",
       "addr_state                    50\n",
       "open_acc                      40\n",
       "sub_grade                     35\n",
       "purpose                       14\n",
       "delinq_2yrs                   11\n",
       "emp_length                    11\n",
       "inq_last_6mths                 9\n",
       "grade                          7\n",
       "pub_rec                        5\n",
       "home_ownership                 5\n",
       "loan_status                    3\n",
       "verification_status            3\n",
       "pub_rec_bankruptcies           3\n",
       "term                           2\n",
       "dtype: int64"
      ]
     },
     "execution_count": 23,
     "metadata": {},
     "output_type": "execute_result"
    }
   ],
   "source": [
    "data_loan.nunique().sort_values(ascending=False)"
   ]
  },
  {
   "cell_type": "markdown",
   "id": "7f27b171",
   "metadata": {},
   "source": [
    "#### The fields that are created after a loan application is approved doesn't make sense for our analysis towards the business objective.\n",
    "#### Also fields like id, member_id & url are different for each application and Therefore, let us drop all these columns mentioned below"
   ]
  },
  {
   "cell_type": "code",
   "execution_count": 24,
   "id": "b104b5fa",
   "metadata": {},
   "outputs": [],
   "source": [
    "data_del_cols = [\"id\",\"member_id\",\"url\",\"zip_code\",\"out_prncp\",\"out_prncp_inv\",\"total_pymnt\",\"total_pymnt_inv\",\n",
    "            \"total_rec_prncp\",\"total_rec_int\",\"total_rec_late_fee\",\"recoveries\",\"collection_recovery_fee\",\n",
    "            \"last_pymnt_d\",\"last_pymnt_amnt\",\"last_credit_pull_d\"]\n",
    "data_loan.drop(columns=data_del_cols, inplace=True)"
   ]
  },
  {
   "cell_type": "code",
   "execution_count": 25,
   "id": "f7b2550f",
   "metadata": {},
   "outputs": [
    {
     "data": {
      "text/plain": [
       "(39717, 28)"
      ]
     },
     "execution_count": 25,
     "metadata": {},
     "output_type": "execute_result"
    }
   ],
   "source": [
    "data_loan.shape"
   ]
  },
  {
   "cell_type": "markdown",
   "id": "eecf3300",
   "metadata": {},
   "source": [
    "### observation :\n",
    "\n",
    "`Now the column count has been reduced to 22`"
   ]
  },
  {
   "cell_type": "code",
   "execution_count": 27,
   "id": "ec1eb7d4",
   "metadata": {},
   "outputs": [
    {
     "name": "stdout",
     "output_type": "stream",
     "text": [
      "<class 'pandas.core.frame.DataFrame'>\n",
      "RangeIndex: 39717 entries, 0 to 39716\n",
      "Data columns (total 28 columns):\n",
      " #   Column                Non-Null Count  Dtype  \n",
      "---  ------                --------------  -----  \n",
      " 0   loan_amnt             39717 non-null  int64  \n",
      " 1   funded_amnt           39717 non-null  int64  \n",
      " 2   funded_amnt_inv       39717 non-null  float64\n",
      " 3   term                  39717 non-null  object \n",
      " 4   int_rate              39717 non-null  object \n",
      " 5   installment           39717 non-null  float64\n",
      " 6   grade                 39717 non-null  object \n",
      " 7   sub_grade             39717 non-null  object \n",
      " 8   emp_title             37258 non-null  object \n",
      " 9   emp_length            38642 non-null  object \n",
      " 10  home_ownership        39717 non-null  object \n",
      " 11  annual_inc            39717 non-null  float64\n",
      " 12  verification_status   39717 non-null  object \n",
      " 13  issue_d               39717 non-null  object \n",
      " 14  loan_status           39717 non-null  object \n",
      " 15  purpose               39717 non-null  object \n",
      " 16  title                 39706 non-null  object \n",
      " 17  addr_state            39717 non-null  object \n",
      " 18  dti                   39717 non-null  float64\n",
      " 19  delinq_2yrs           39717 non-null  int64  \n",
      " 20  earliest_cr_line      39717 non-null  object \n",
      " 21  inq_last_6mths        39717 non-null  int64  \n",
      " 22  open_acc              39717 non-null  int64  \n",
      " 23  pub_rec               39717 non-null  int64  \n",
      " 24  revol_bal             39717 non-null  int64  \n",
      " 25  revol_util            39667 non-null  object \n",
      " 26  total_acc             39717 non-null  int64  \n",
      " 27  pub_rec_bankruptcies  39020 non-null  float64\n",
      "dtypes: float64(5), int64(8), object(15)\n",
      "memory usage: 8.5+ MB\n"
     ]
    }
   ],
   "source": [
    "data_loan.info()"
   ]
  },
  {
   "cell_type": "code",
   "execution_count": 28,
   "id": "c4c0cdb1",
   "metadata": {},
   "outputs": [
    {
     "data": {
      "text/html": [
       "<div>\n",
       "<style scoped>\n",
       "    .dataframe tbody tr th:only-of-type {\n",
       "        vertical-align: middle;\n",
       "    }\n",
       "\n",
       "    .dataframe tbody tr th {\n",
       "        vertical-align: top;\n",
       "    }\n",
       "\n",
       "    .dataframe thead th {\n",
       "        text-align: right;\n",
       "    }\n",
       "</style>\n",
       "<table border=\"1\" class=\"dataframe\">\n",
       "  <thead>\n",
       "    <tr style=\"text-align: right;\">\n",
       "      <th></th>\n",
       "      <th>loan_amnt</th>\n",
       "      <th>funded_amnt</th>\n",
       "      <th>funded_amnt_inv</th>\n",
       "      <th>installment</th>\n",
       "      <th>annual_inc</th>\n",
       "      <th>dti</th>\n",
       "      <th>delinq_2yrs</th>\n",
       "      <th>inq_last_6mths</th>\n",
       "      <th>open_acc</th>\n",
       "      <th>pub_rec</th>\n",
       "      <th>revol_bal</th>\n",
       "      <th>total_acc</th>\n",
       "      <th>pub_rec_bankruptcies</th>\n",
       "    </tr>\n",
       "  </thead>\n",
       "  <tbody>\n",
       "    <tr>\n",
       "      <th>count</th>\n",
       "      <td>39717.000000</td>\n",
       "      <td>39717.000000</td>\n",
       "      <td>39717.000000</td>\n",
       "      <td>39717.000000</td>\n",
       "      <td>3.971700e+04</td>\n",
       "      <td>39717.000000</td>\n",
       "      <td>39717.000000</td>\n",
       "      <td>39717.000000</td>\n",
       "      <td>39717.000000</td>\n",
       "      <td>39717.000000</td>\n",
       "      <td>39717.000000</td>\n",
       "      <td>39717.000000</td>\n",
       "      <td>39020.000000</td>\n",
       "    </tr>\n",
       "    <tr>\n",
       "      <th>mean</th>\n",
       "      <td>11219.443815</td>\n",
       "      <td>10947.713196</td>\n",
       "      <td>10397.448868</td>\n",
       "      <td>324.561922</td>\n",
       "      <td>6.896893e+04</td>\n",
       "      <td>13.315130</td>\n",
       "      <td>0.146512</td>\n",
       "      <td>0.869200</td>\n",
       "      <td>9.294408</td>\n",
       "      <td>0.055065</td>\n",
       "      <td>13382.528086</td>\n",
       "      <td>22.088828</td>\n",
       "      <td>0.043260</td>\n",
       "    </tr>\n",
       "    <tr>\n",
       "      <th>std</th>\n",
       "      <td>7456.670694</td>\n",
       "      <td>7187.238670</td>\n",
       "      <td>7128.450439</td>\n",
       "      <td>208.874874</td>\n",
       "      <td>6.379377e+04</td>\n",
       "      <td>6.678594</td>\n",
       "      <td>0.491812</td>\n",
       "      <td>1.070219</td>\n",
       "      <td>4.400282</td>\n",
       "      <td>0.237200</td>\n",
       "      <td>15885.016641</td>\n",
       "      <td>11.401709</td>\n",
       "      <td>0.204324</td>\n",
       "    </tr>\n",
       "    <tr>\n",
       "      <th>min</th>\n",
       "      <td>500.000000</td>\n",
       "      <td>500.000000</td>\n",
       "      <td>0.000000</td>\n",
       "      <td>15.690000</td>\n",
       "      <td>4.000000e+03</td>\n",
       "      <td>0.000000</td>\n",
       "      <td>0.000000</td>\n",
       "      <td>0.000000</td>\n",
       "      <td>2.000000</td>\n",
       "      <td>0.000000</td>\n",
       "      <td>0.000000</td>\n",
       "      <td>2.000000</td>\n",
       "      <td>0.000000</td>\n",
       "    </tr>\n",
       "    <tr>\n",
       "      <th>25%</th>\n",
       "      <td>5500.000000</td>\n",
       "      <td>5400.000000</td>\n",
       "      <td>5000.000000</td>\n",
       "      <td>167.020000</td>\n",
       "      <td>4.040400e+04</td>\n",
       "      <td>8.170000</td>\n",
       "      <td>0.000000</td>\n",
       "      <td>0.000000</td>\n",
       "      <td>6.000000</td>\n",
       "      <td>0.000000</td>\n",
       "      <td>3703.000000</td>\n",
       "      <td>13.000000</td>\n",
       "      <td>0.000000</td>\n",
       "    </tr>\n",
       "    <tr>\n",
       "      <th>50%</th>\n",
       "      <td>10000.000000</td>\n",
       "      <td>9600.000000</td>\n",
       "      <td>8975.000000</td>\n",
       "      <td>280.220000</td>\n",
       "      <td>5.900000e+04</td>\n",
       "      <td>13.400000</td>\n",
       "      <td>0.000000</td>\n",
       "      <td>1.000000</td>\n",
       "      <td>9.000000</td>\n",
       "      <td>0.000000</td>\n",
       "      <td>8850.000000</td>\n",
       "      <td>20.000000</td>\n",
       "      <td>0.000000</td>\n",
       "    </tr>\n",
       "    <tr>\n",
       "      <th>75%</th>\n",
       "      <td>15000.000000</td>\n",
       "      <td>15000.000000</td>\n",
       "      <td>14400.000000</td>\n",
       "      <td>430.780000</td>\n",
       "      <td>8.230000e+04</td>\n",
       "      <td>18.600000</td>\n",
       "      <td>0.000000</td>\n",
       "      <td>1.000000</td>\n",
       "      <td>12.000000</td>\n",
       "      <td>0.000000</td>\n",
       "      <td>17058.000000</td>\n",
       "      <td>29.000000</td>\n",
       "      <td>0.000000</td>\n",
       "    </tr>\n",
       "    <tr>\n",
       "      <th>max</th>\n",
       "      <td>35000.000000</td>\n",
       "      <td>35000.000000</td>\n",
       "      <td>35000.000000</td>\n",
       "      <td>1305.190000</td>\n",
       "      <td>6.000000e+06</td>\n",
       "      <td>29.990000</td>\n",
       "      <td>11.000000</td>\n",
       "      <td>8.000000</td>\n",
       "      <td>44.000000</td>\n",
       "      <td>4.000000</td>\n",
       "      <td>149588.000000</td>\n",
       "      <td>90.000000</td>\n",
       "      <td>2.000000</td>\n",
       "    </tr>\n",
       "  </tbody>\n",
       "</table>\n",
       "</div>"
      ],
      "text/plain": [
       "          loan_amnt   funded_amnt  funded_amnt_inv   installment  \\\n",
       "count  39717.000000  39717.000000     39717.000000  39717.000000   \n",
       "mean   11219.443815  10947.713196     10397.448868    324.561922   \n",
       "std     7456.670694   7187.238670      7128.450439    208.874874   \n",
       "min      500.000000    500.000000         0.000000     15.690000   \n",
       "25%     5500.000000   5400.000000      5000.000000    167.020000   \n",
       "50%    10000.000000   9600.000000      8975.000000    280.220000   \n",
       "75%    15000.000000  15000.000000     14400.000000    430.780000   \n",
       "max    35000.000000  35000.000000     35000.000000   1305.190000   \n",
       "\n",
       "         annual_inc           dti   delinq_2yrs  inq_last_6mths      open_acc  \\\n",
       "count  3.971700e+04  39717.000000  39717.000000    39717.000000  39717.000000   \n",
       "mean   6.896893e+04     13.315130      0.146512        0.869200      9.294408   \n",
       "std    6.379377e+04      6.678594      0.491812        1.070219      4.400282   \n",
       "min    4.000000e+03      0.000000      0.000000        0.000000      2.000000   \n",
       "25%    4.040400e+04      8.170000      0.000000        0.000000      6.000000   \n",
       "50%    5.900000e+04     13.400000      0.000000        1.000000      9.000000   \n",
       "75%    8.230000e+04     18.600000      0.000000        1.000000     12.000000   \n",
       "max    6.000000e+06     29.990000     11.000000        8.000000     44.000000   \n",
       "\n",
       "            pub_rec      revol_bal     total_acc  pub_rec_bankruptcies  \n",
       "count  39717.000000   39717.000000  39717.000000          39020.000000  \n",
       "mean       0.055065   13382.528086     22.088828              0.043260  \n",
       "std        0.237200   15885.016641     11.401709              0.204324  \n",
       "min        0.000000       0.000000      2.000000              0.000000  \n",
       "25%        0.000000    3703.000000     13.000000              0.000000  \n",
       "50%        0.000000    8850.000000     20.000000              0.000000  \n",
       "75%        0.000000   17058.000000     29.000000              0.000000  \n",
       "max        4.000000  149588.000000     90.000000              2.000000  "
      ]
     },
     "execution_count": 28,
     "metadata": {},
     "output_type": "execute_result"
    }
   ],
   "source": [
    "data_loan.describe()"
   ]
  },
  {
   "cell_type": "markdown",
   "id": "2789db03",
   "metadata": {},
   "source": [
    "#### Below are the columns to be analysed"
   ]
  },
  {
   "cell_type": "code",
   "execution_count": 45,
   "id": "1e229280",
   "metadata": {},
   "outputs": [
    {
     "data": {
      "text/plain": [
       "Index(['loan_amnt', 'funded_amnt', 'funded_amnt_inv', 'term', 'int_rate',\n",
       "       'installment', 'grade', 'sub_grade', 'emp_title', 'emp_length',\n",
       "       'home_ownership', 'annual_inc', 'verification_status', 'issue_d',\n",
       "       'loan_status', 'purpose', 'title', 'addr_state', 'dti', 'delinq_2yrs',\n",
       "       'earliest_cr_line', 'inq_last_6mths', 'open_acc', 'pub_rec',\n",
       "       'revol_bal', 'revol_util', 'total_acc', 'pub_rec_bankruptcies'],\n",
       "      dtype='object')"
      ]
     },
     "execution_count": 45,
     "metadata": {},
     "output_type": "execute_result"
    }
   ],
   "source": [
    "data_loan.columns"
   ]
  },
  {
   "cell_type": "markdown",
   "id": "886cfd1f",
   "metadata": {},
   "source": [
    "### Lets first check the loan status"
   ]
  },
  {
   "cell_type": "code",
   "execution_count": 46,
   "id": "96c0b987",
   "metadata": {},
   "outputs": [
    {
     "data": {
      "text/plain": [
       "Fully Paid     32950\n",
       "Charged Off     5627\n",
       "Current         1140\n",
       "Name: loan_status, dtype: int64"
      ]
     },
     "execution_count": 46,
     "metadata": {},
     "output_type": "execute_result"
    }
   ],
   "source": [
    "data_loan['loan_status'].value_counts()"
   ]
  },
  {
   "cell_type": "markdown",
   "id": "319a2878",
   "metadata": {},
   "source": [
    "#### Dropping loan status \"Current\" as this information will make no sense for our analysis (approving or rejecting application)"
   ]
  },
  {
   "cell_type": "code",
   "execution_count": 47,
   "id": "49ca5a7f",
   "metadata": {},
   "outputs": [
    {
     "data": {
      "text/plain": [
       "(38577, 28)"
      ]
     },
     "execution_count": 47,
     "metadata": {},
     "output_type": "execute_result"
    }
   ],
   "source": [
    "data_loan=data_loan[~(data_loan['loan_status'] == 'Current')]\n",
    "data_loan.shape"
   ]
  },
  {
   "cell_type": "code",
   "execution_count": 48,
   "id": "662a5dac",
   "metadata": {},
   "outputs": [
    {
     "data": {
      "text/plain": [
       " 36 months    29096\n",
       " 60 months     9481\n",
       "Name: term, dtype: int64"
      ]
     },
     "execution_count": 48,
     "metadata": {},
     "output_type": "execute_result"
    }
   ],
   "source": [
    "data_loan['term'].value_counts()"
   ]
  },
  {
   "cell_type": "code",
   "execution_count": 49,
   "id": "cca87828",
   "metadata": {},
   "outputs": [
    {
     "data": {
      "text/plain": [
       "0    10.65%\n",
       "1    15.27%\n",
       "2    15.96%\n",
       "3    13.49%\n",
       "5     7.90%\n",
       "Name: int_rate, dtype: object"
      ]
     },
     "execution_count": 49,
     "metadata": {},
     "output_type": "execute_result"
    }
   ],
   "source": [
    "data_loan['int_rate'].head()"
   ]
  },
  {
   "cell_type": "code",
   "execution_count": 50,
   "id": "fb188d3a",
   "metadata": {},
   "outputs": [
    {
     "data": {
      "text/plain": [
       "count      38577\n",
       "unique       370\n",
       "top       10.99%\n",
       "freq         913\n",
       "Name: int_rate, dtype: object"
      ]
     },
     "execution_count": 50,
     "metadata": {},
     "output_type": "execute_result"
    }
   ],
   "source": [
    "data_loan['int_rate'].describe()\n"
   ]
  },
  {
   "cell_type": "markdown",
   "id": "30c0607b",
   "metadata": {},
   "source": [
    "### let us remove the %"
   ]
  },
  {
   "cell_type": "code",
   "execution_count": 52,
   "id": "822eb625",
   "metadata": {},
   "outputs": [
    {
     "data": {
      "text/plain": [
       "count    38577.000000\n",
       "mean        11.932219\n",
       "std          3.691327\n",
       "min          5.420000\n",
       "25%          8.940000\n",
       "50%         11.710000\n",
       "75%         14.380000\n",
       "max         24.400000\n",
       "Name: int_rate, dtype: float64"
      ]
     },
     "execution_count": 52,
     "metadata": {},
     "output_type": "execute_result"
    }
   ],
   "source": [
    "data_loan['int_rate']=data_loan['int_rate'].apply(lambda x : pd.to_numeric(x.split(\"%\")[0]))\n",
    "data_loan['int_rate'].describe()"
   ]
  },
  {
   "cell_type": "markdown",
   "id": "7015452d",
   "metadata": {},
   "source": [
    "### let us analyse the date column (\"issue_d\") and split it into month and year <BR>Also drop the column after splitiing into month and year"
   ]
  },
  {
   "cell_type": "code",
   "execution_count": 54,
   "id": "13e11fa8",
   "metadata": {},
   "outputs": [
    {
     "name": "stdout",
     "output_type": "stream",
     "text": [
      "0    Dec-11\n",
      "1    Dec-11\n",
      "2    Dec-11\n",
      "3    Dec-11\n",
      "5    Dec-11\n",
      "Name: issue_d, dtype: object\n",
      "Spliting the column into month and date\n"
     ]
    }
   ],
   "source": [
    "print(data_loan['issue_d'].head())\n",
    "print(\"Spliting the column into month and date\")\n",
    "data_loan['issue_month'], data_loan['issue_year']=zip(*data_loan['issue_d'].str.split('-').tolist())\n",
    "data_loan.drop(columns=['issue_d'], inplace=True)"
   ]
  },
  {
   "cell_type": "code",
   "execution_count": 58,
   "id": "f98c82d7",
   "metadata": {},
   "outputs": [
    {
     "data": {
      "text/html": [
       "<div>\n",
       "<style scoped>\n",
       "    .dataframe tbody tr th:only-of-type {\n",
       "        vertical-align: middle;\n",
       "    }\n",
       "\n",
       "    .dataframe tbody tr th {\n",
       "        vertical-align: top;\n",
       "    }\n",
       "\n",
       "    .dataframe thead th {\n",
       "        text-align: right;\n",
       "    }\n",
       "</style>\n",
       "<table border=\"1\" class=\"dataframe\">\n",
       "  <thead>\n",
       "    <tr style=\"text-align: right;\">\n",
       "      <th></th>\n",
       "      <th>loan_amnt</th>\n",
       "      <th>funded_amnt</th>\n",
       "      <th>funded_amnt_inv</th>\n",
       "      <th>term</th>\n",
       "      <th>int_rate</th>\n",
       "      <th>installment</th>\n",
       "      <th>grade</th>\n",
       "      <th>sub_grade</th>\n",
       "      <th>emp_title</th>\n",
       "      <th>emp_length</th>\n",
       "      <th>...</th>\n",
       "      <th>earliest_cr_line</th>\n",
       "      <th>inq_last_6mths</th>\n",
       "      <th>open_acc</th>\n",
       "      <th>pub_rec</th>\n",
       "      <th>revol_bal</th>\n",
       "      <th>revol_util</th>\n",
       "      <th>total_acc</th>\n",
       "      <th>pub_rec_bankruptcies</th>\n",
       "      <th>issue_month</th>\n",
       "      <th>issue_year</th>\n",
       "    </tr>\n",
       "  </thead>\n",
       "  <tbody>\n",
       "    <tr>\n",
       "      <th>0</th>\n",
       "      <td>5000</td>\n",
       "      <td>5000</td>\n",
       "      <td>4975.0</td>\n",
       "      <td>36 months</td>\n",
       "      <td>10.65</td>\n",
       "      <td>162.87</td>\n",
       "      <td>B</td>\n",
       "      <td>B2</td>\n",
       "      <td>NaN</td>\n",
       "      <td>10+ years</td>\n",
       "      <td>...</td>\n",
       "      <td>Jan-85</td>\n",
       "      <td>1</td>\n",
       "      <td>3</td>\n",
       "      <td>0</td>\n",
       "      <td>13648</td>\n",
       "      <td>83.70%</td>\n",
       "      <td>9</td>\n",
       "      <td>0.0</td>\n",
       "      <td>Dec</td>\n",
       "      <td>11</td>\n",
       "    </tr>\n",
       "    <tr>\n",
       "      <th>1</th>\n",
       "      <td>2500</td>\n",
       "      <td>2500</td>\n",
       "      <td>2500.0</td>\n",
       "      <td>60 months</td>\n",
       "      <td>15.27</td>\n",
       "      <td>59.83</td>\n",
       "      <td>C</td>\n",
       "      <td>C4</td>\n",
       "      <td>Ryder</td>\n",
       "      <td>&lt; 1 year</td>\n",
       "      <td>...</td>\n",
       "      <td>Apr-99</td>\n",
       "      <td>5</td>\n",
       "      <td>3</td>\n",
       "      <td>0</td>\n",
       "      <td>1687</td>\n",
       "      <td>9.40%</td>\n",
       "      <td>4</td>\n",
       "      <td>0.0</td>\n",
       "      <td>Dec</td>\n",
       "      <td>11</td>\n",
       "    </tr>\n",
       "    <tr>\n",
       "      <th>2</th>\n",
       "      <td>2400</td>\n",
       "      <td>2400</td>\n",
       "      <td>2400.0</td>\n",
       "      <td>36 months</td>\n",
       "      <td>15.96</td>\n",
       "      <td>84.33</td>\n",
       "      <td>C</td>\n",
       "      <td>C5</td>\n",
       "      <td>NaN</td>\n",
       "      <td>10+ years</td>\n",
       "      <td>...</td>\n",
       "      <td>Nov-01</td>\n",
       "      <td>2</td>\n",
       "      <td>2</td>\n",
       "      <td>0</td>\n",
       "      <td>2956</td>\n",
       "      <td>98.50%</td>\n",
       "      <td>10</td>\n",
       "      <td>0.0</td>\n",
       "      <td>Dec</td>\n",
       "      <td>11</td>\n",
       "    </tr>\n",
       "    <tr>\n",
       "      <th>3</th>\n",
       "      <td>10000</td>\n",
       "      <td>10000</td>\n",
       "      <td>10000.0</td>\n",
       "      <td>36 months</td>\n",
       "      <td>13.49</td>\n",
       "      <td>339.31</td>\n",
       "      <td>C</td>\n",
       "      <td>C1</td>\n",
       "      <td>AIR RESOURCES BOARD</td>\n",
       "      <td>10+ years</td>\n",
       "      <td>...</td>\n",
       "      <td>Feb-96</td>\n",
       "      <td>1</td>\n",
       "      <td>10</td>\n",
       "      <td>0</td>\n",
       "      <td>5598</td>\n",
       "      <td>21%</td>\n",
       "      <td>37</td>\n",
       "      <td>0.0</td>\n",
       "      <td>Dec</td>\n",
       "      <td>11</td>\n",
       "    </tr>\n",
       "    <tr>\n",
       "      <th>5</th>\n",
       "      <td>5000</td>\n",
       "      <td>5000</td>\n",
       "      <td>5000.0</td>\n",
       "      <td>36 months</td>\n",
       "      <td>7.90</td>\n",
       "      <td>156.46</td>\n",
       "      <td>A</td>\n",
       "      <td>A4</td>\n",
       "      <td>Veolia Transportaton</td>\n",
       "      <td>3 years</td>\n",
       "      <td>...</td>\n",
       "      <td>Nov-04</td>\n",
       "      <td>3</td>\n",
       "      <td>9</td>\n",
       "      <td>0</td>\n",
       "      <td>7963</td>\n",
       "      <td>28.30%</td>\n",
       "      <td>12</td>\n",
       "      <td>0.0</td>\n",
       "      <td>Dec</td>\n",
       "      <td>11</td>\n",
       "    </tr>\n",
       "  </tbody>\n",
       "</table>\n",
       "<p>5 rows × 29 columns</p>\n",
       "</div>"
      ],
      "text/plain": [
       "   loan_amnt  funded_amnt  funded_amnt_inv        term  int_rate  installment  \\\n",
       "0       5000         5000           4975.0   36 months     10.65       162.87   \n",
       "1       2500         2500           2500.0   60 months     15.27        59.83   \n",
       "2       2400         2400           2400.0   36 months     15.96        84.33   \n",
       "3      10000        10000          10000.0   36 months     13.49       339.31   \n",
       "5       5000         5000           5000.0   36 months      7.90       156.46   \n",
       "\n",
       "  grade sub_grade             emp_title emp_length  ... earliest_cr_line  \\\n",
       "0     B        B2                   NaN  10+ years  ...           Jan-85   \n",
       "1     C        C4                 Ryder   < 1 year  ...           Apr-99   \n",
       "2     C        C5                   NaN  10+ years  ...           Nov-01   \n",
       "3     C        C1   AIR RESOURCES BOARD  10+ years  ...           Feb-96   \n",
       "5     A        A4  Veolia Transportaton    3 years  ...           Nov-04   \n",
       "\n",
       "   inq_last_6mths open_acc pub_rec revol_bal revol_util total_acc  \\\n",
       "0               1        3       0     13648     83.70%         9   \n",
       "1               5        3       0      1687      9.40%         4   \n",
       "2               2        2       0      2956     98.50%        10   \n",
       "3               1       10       0      5598        21%        37   \n",
       "5               3        9       0      7963     28.30%        12   \n",
       "\n",
       "   pub_rec_bankruptcies  issue_month issue_year  \n",
       "0                   0.0          Dec         11  \n",
       "1                   0.0          Dec         11  \n",
       "2                   0.0          Dec         11  \n",
       "3                   0.0          Dec         11  \n",
       "5                   0.0          Dec         11  \n",
       "\n",
       "[5 rows x 29 columns]"
      ]
     },
     "execution_count": 58,
     "metadata": {},
     "output_type": "execute_result"
    }
   ],
   "source": [
    "data_loan.head()\n"
   ]
  },
  {
   "cell_type": "markdown",
   "id": "1b55623c",
   "metadata": {},
   "source": [
    "## Univariate Analysis"
   ]
  },
  {
   "cell_type": "markdown",
   "id": "c526fa18",
   "metadata": {},
   "source": [
    "#### We are writing below functions as are going to use repetitive code for analysing different columns."
   ]
  },
  {
   "cell_type": "code",
   "execution_count": 35,
   "id": "9f459a7c",
   "metadata": {},
   "outputs": [],
   "source": [
    "def func_univariate(x):\n",
    "    #Increasing the figure size of plot\n",
    "    plt.figure(figsize=(12,4))\n",
    "    #Setting subplot index\n",
    "    plt.subplot(1,2,1)\n",
    "    #Box plot\n",
    "    sns.boxplot(data=data_loan[x])\n",
    "    return plt.show()"
   ]
  },
  {
   "cell_type": "code",
   "execution_count": 33,
   "id": "c829ef13",
   "metadata": {},
   "outputs": [],
   "source": [
    "def func_univariate_box(x):\n",
    "    var = x\n",
    "    #Probability / Percentage of each values\n",
    "    prob_df = data_loan[var].value_counts(normalize=True).reset_index()\n",
    "    sns.barplot(x='index', y=var, data=prob_df)\n",
    "    plt.xlabel(var)\n",
    "    plt.ylabel('Proportion')\n",
    "    plt.title(var+' Distribution')\n",
    "    return plt.show()"
   ]
  },
  {
   "cell_type": "code",
   "execution_count": 34,
   "id": "d713efce",
   "metadata": {},
   "outputs": [],
   "source": [
    "def func_stats(x):\n",
    "    return data_loan[x].describe(percentiles=[0.05,0.1,0.25,0.5,0.75,0.9,0.95,0.99])"
   ]
  },
  {
   "cell_type": "markdown",
   "id": "b84448a1",
   "metadata": {},
   "source": [
    "### Loan Amount\n",
    "\n",
    "#### *The listed amount of the loan applied for by the borrower. If at some point in time, the credit department reduces the loan amount, then it will be reflected in this value*."
   ]
  },
  {
   "cell_type": "code",
   "execution_count": 36,
   "id": "d870e007",
   "metadata": {},
   "outputs": [
    {
     "data": {
      "image/png": "[encoded data removed]",
      "text/plain": [
       "<Figure size 864x288 with 1 Axes>"
      ]
     },
     "metadata": {
      "needs_background": "light"
     },
     "output_type": "display_data"
    }
   ],
   "source": [
    "func_univariate('loan_amnt')"
   ]
  },
  {
   "cell_type": "code",
   "execution_count": 37,
   "id": "e486774b",
   "metadata": {},
   "outputs": [
    {
     "data": {
      "text/plain": [
       "count    39717.000000\n",
       "mean     11219.443815\n",
       "std       7456.670694\n",
       "min        500.000000\n",
       "5%        2400.000000\n",
       "10%       3200.000000\n",
       "25%       5500.000000\n",
       "50%      10000.000000\n",
       "75%      15000.000000\n",
       "90%      22000.000000\n",
       "95%      25000.000000\n",
       "99%      35000.000000\n",
       "max      35000.000000\n",
       "Name: loan_amnt, dtype: float64"
      ]
     },
     "execution_count": 37,
     "metadata": {},
     "output_type": "execute_result"
    }
   ],
   "source": [
    "#Stats of laon amount\n",
    "func_stats('loan_amnt')"
   ]
  },
  {
   "cell_type": "markdown",
   "id": "97fa847f",
   "metadata": {},
   "source": [
    "### Observations:\n",
    "`From the above plots, more number of people took loan amount of 10000, and also meadian of distribution is 10000.`<BR> `And very few people took more than 30000 loan amount.`"
   ]
  },
  {
   "cell_type": "markdown",
   "id": "9135c394",
   "metadata": {},
   "source": [
    "## funded_amnt\n",
    "#### *The total amount committed to that loan at that point in time.*"
   ]
  },
  {
   "cell_type": "code",
   "execution_count": 235,
   "id": "e007bae2",
   "metadata": {},
   "outputs": [
    {
     "data": {
      "image/png": "[encoded data removed]",
      "text/plain": [
       "<Figure size 864x288 with 1 Axes>"
      ]
     },
     "metadata": {
      "needs_background": "light"
     },
     "output_type": "display_data"
    }
   ],
   "source": [
    "func_univariate('funded_amnt')"
   ]
  },
  {
   "cell_type": "code",
   "execution_count": 38,
   "id": "6d917373",
   "metadata": {},
   "outputs": [
    {
     "data": {
      "text/plain": [
       "count    39717.000000\n",
       "mean     10947.713196\n",
       "std       7187.238670\n",
       "min        500.000000\n",
       "5%        2400.000000\n",
       "10%       3200.000000\n",
       "25%       5400.000000\n",
       "50%       9600.000000\n",
       "75%      15000.000000\n",
       "90%      21000.000000\n",
       "95%      25000.000000\n",
       "99%      35000.000000\n",
       "max      35000.000000\n",
       "Name: funded_amnt, dtype: float64"
      ]
     },
     "execution_count": 38,
     "metadata": {},
     "output_type": "execute_result"
    }
   ],
   "source": [
    "func_stats('funded_amnt')"
   ]
  },
  {
   "cell_type": "markdown",
   "id": "0e906705",
   "metadata": {},
   "source": [
    "### Observations:\n",
    "`Funded amount data behaves similar to loan Amount, Which tells us that Lending club approved most of Applied loan amount.`"
   ]
  },
  {
   "cell_type": "markdown",
   "id": "a35a980c",
   "metadata": {},
   "source": [
    "## funded_amnt_inv\n",
    "#### *The total amount committed by investors for that loan at that point in time.*"
   ]
  },
  {
   "cell_type": "code",
   "execution_count": 43,
   "id": "c15a3f08",
   "metadata": {},
   "outputs": [
    {
     "data": {
      "image/png": "[encoded data removed]",
      "text/plain": [
       "<Figure size 864x288 with 1 Axes>"
      ]
     },
     "metadata": {
      "needs_background": "light"
     },
     "output_type": "display_data"
    },
    {
     "data": {
      "text/plain": [
       "count    39717.000000\n",
       "mean     10947.713196\n",
       "std       7187.238670\n",
       "min        500.000000\n",
       "5%        2400.000000\n",
       "10%       3200.000000\n",
       "25%       5400.000000\n",
       "50%       9600.000000\n",
       "75%      15000.000000\n",
       "90%      21000.000000\n",
       "95%      25000.000000\n",
       "99%      35000.000000\n",
       "max      35000.000000\n",
       "Name: funded_amnt, dtype: float64"
      ]
     },
     "execution_count": 43,
     "metadata": {},
     "output_type": "execute_result"
    }
   ],
   "source": [
    "func_univariate('funded_amnt')\n",
    "func_stats('funded_amnt')"
   ]
  },
  {
   "cell_type": "markdown",
   "id": "d747afd8",
   "metadata": {},
   "source": [
    "### Observations:\n",
    "`Funded amount investment data behaves similar to loan Amount, Which tells us that Lending club approved atmost of Applied loan amount.`"
   ]
  },
  {
   "cell_type": "markdown",
   "id": "697c748b",
   "metadata": {},
   "source": [
    "## int_rate\n",
    "#### *Interest Rate on the loan*"
   ]
  },
  {
   "cell_type": "code",
   "execution_count": 59,
   "id": "c0f3b49a",
   "metadata": {},
   "outputs": [
    {
     "data": {
      "image/png": "[encoded data removed]",
      "text/plain": [
       "<Figure size 864x288 with 1 Axes>"
      ]
     },
     "metadata": {
      "needs_background": "light"
     },
     "output_type": "display_data"
    },
    {
     "data": {
      "text/plain": [
       "count    38577.000000\n",
       "mean        11.932219\n",
       "std          3.691327\n",
       "min          5.420000\n",
       "5%           6.170000\n",
       "10%          7.140000\n",
       "25%          8.940000\n",
       "50%         11.710000\n",
       "75%         14.380000\n",
       "90%         16.820000\n",
       "95%         18.312000\n",
       "99%         20.990000\n",
       "max         24.400000\n",
       "Name: int_rate, dtype: float64"
      ]
     },
     "execution_count": 59,
     "metadata": {},
     "output_type": "execute_result"
    }
   ],
   "source": [
    "func_univariate('int_rate')\n",
    "func_stats('int_rate')"
   ]
  },
  {
   "cell_type": "markdown",
   "id": "c5ace997",
   "metadata": {},
   "source": [
    "### Observations:\n",
    "`From the above plot and statistics of interest rates we can conclude that most of the interest rates lies between 9% to 14.5%. Some people took loan at higher rates of interest i.e., 22.5%`"
   ]
  },
  {
   "cell_type": "markdown",
   "id": "fdaf92f7",
   "metadata": {},
   "source": [
    "## Installment\n",
    "#### *The monthly payment owed by the borrower if the loan originates.*"
   ]
  },
  {
   "cell_type": "code",
   "execution_count": 60,
   "id": "e2d91a36",
   "metadata": {},
   "outputs": [
    {
     "data": {
      "image/png": "[encoded data removed]",
      "text/plain": [
       "<Figure size 864x288 with 1 Axes>"
      ]
     },
     "metadata": {
      "needs_background": "light"
     },
     "output_type": "display_data"
    },
    {
     "data": {
      "text/plain": [
       "count    38577.000000\n",
       "mean       322.466318\n",
       "std        208.639215\n",
       "min         15.690000\n",
       "5%          70.610000\n",
       "10%         98.990000\n",
       "25%        165.740000\n",
       "50%        277.860000\n",
       "75%        425.550000\n",
       "90%        620.900000\n",
       "95%        760.820000\n",
       "99%        931.090000\n",
       "max       1305.190000\n",
       "Name: installment, dtype: float64"
      ]
     },
     "execution_count": 60,
     "metadata": {},
     "output_type": "execute_result"
    }
   ],
   "source": [
    "func_univariate('installment')\n",
    "func_stats('installment')"
   ]
  },
  {
   "cell_type": "markdown",
   "id": "1f745564",
   "metadata": {},
   "source": [
    "### Observations:\n",
    "`The Most representative value of Installment amount in around 277(approx ~280).`"
   ]
  },
  {
   "cell_type": "markdown",
   "id": "65795659",
   "metadata": {},
   "source": [
    "## dti\n",
    "##### *A ratio calculated using the borrower’s total monthly debt payments on the total debt obligations, excluding mortgage and the requested LC loan, divided by the borrower’s self-reported monthly income.*"
   ]
  },
  {
   "cell_type": "code",
   "execution_count": 246,
   "id": "2f25e9da",
   "metadata": {},
   "outputs": [
    {
     "data": {
      "image/png": "[encoded data removed]",
      "text/plain": [
       "<Figure size 864x288 with 1 Axes>"
      ]
     },
     "metadata": {
      "needs_background": "light"
     },
     "output_type": "display_data"
    },
    {
     "data": {
      "text/plain": [
       "count    38577.000000\n",
       "mean        13.272727\n",
       "std          6.673044\n",
       "min          0.000000\n",
       "5%           2.100000\n",
       "10%          4.060000\n",
       "25%          8.130000\n",
       "50%         13.370000\n",
       "75%         18.560000\n",
       "90%         22.290000\n",
       "95%         23.800000\n",
       "99%         26.530000\n",
       "max         29.990000\n",
       "Name: dti, dtype: float64"
      ]
     },
     "execution_count": 246,
     "metadata": {},
     "output_type": "execute_result"
    }
   ],
   "source": [
    "func_univariate('dti')\n",
    "func_stats('dti')"
   ]
  },
  {
   "cell_type": "markdown",
   "id": "63aa8154",
   "metadata": {},
   "source": [
    "### Observations:\n",
    "`By looking at the graph we can say that all the loans are given to barrower's who have Debt to Income ration less than 30.`"
   ]
  },
  {
   "cell_type": "markdown",
   "id": "d9d414b8",
   "metadata": {},
   "source": [
    "## Pub_rec\n",
    "#### Number of Public derogatory records"
   ]
  },
  {
   "cell_type": "code",
   "execution_count": 256,
   "id": "433e3625",
   "metadata": {},
   "outputs": [
    {
     "data": {
      "image/png": "[encoded data removed]",
      "text/plain": [
       "<Figure size 432x288 with 1 Axes>"
      ]
     },
     "metadata": {
      "needs_background": "light"
     },
     "output_type": "display_data"
    }
   ],
   "source": [
    "func_univariate_box('pub_rec')\n"
   ]
  },
  {
   "cell_type": "markdown",
   "id": "90f65286",
   "metadata": {},
   "source": [
    "### Observations\n",
    "`Around 90% borrower's are having no public derogatory records.`"
   ]
  },
  {
   "cell_type": "markdown",
   "id": "8ca2ad8a",
   "metadata": {},
   "source": [
    "## pub_rec_bankruptcies\n",
    "#### *Number of public record bankruptcies*"
   ]
  },
  {
   "cell_type": "code",
   "execution_count": 63,
   "id": "e35a925f",
   "metadata": {},
   "outputs": [
    {
     "data": {
      "image/png": "[encoded data removed]",
      "text/plain": [
       "<Figure size 432x288 with 1 Axes>"
      ]
     },
     "metadata": {
      "needs_background": "light"
     },
     "output_type": "display_data"
    }
   ],
   "source": [
    "func_univariate_box('pub_rec_bankruptcies')"
   ]
  },
  {
   "cell_type": "markdown",
   "id": "d2dabeeb",
   "metadata": {},
   "source": [
    "### Observations:\n",
    "`99% people have not went bankrupt.`"
   ]
  },
  {
   "cell_type": "markdown",
   "id": "c931f6bd",
   "metadata": {},
   "source": [
    "## issue_d\n",
    "#### *The month which the loan was funded*"
   ]
  },
  {
   "cell_type": "code",
   "execution_count": 66,
   "id": "45fe9a8f",
   "metadata": {},
   "outputs": [
    {
     "data": {
      "image/png": "[encoded data removed]",
      "text/plain": [
       "<Figure size 432x288 with 1 Axes>"
      ]
     },
     "metadata": {
      "needs_background": "light"
     },
     "output_type": "display_data"
    },
    {
     "data": {
      "image/png": "[encoded data removed]",
      "text/plain": [
       "<Figure size 432x288 with 1 Axes>"
      ]
     },
     "metadata": {
      "needs_background": "light"
     },
     "output_type": "display_data"
    }
   ],
   "source": [
    "func_univariate_box('issue_month')\n",
    "func_univariate_box('issue_year')"
   ]
  },
  {
   "cell_type": "markdown",
   "id": "a9747425",
   "metadata": {},
   "source": [
    "### Observations:\n",
    "`The lending club(LC) has doubling loan issues every year.`<BR>\n",
    "`There are more issues of loan in last 3 months every end of the ear i.e., Oct, Nov and Dec.`"
   ]
  },
  {
   "cell_type": "markdown",
   "id": "11a5d843",
   "metadata": {},
   "source": [
    "## term\n",
    "#### *The number of payments on the loan. Values are in months and can be either 36 or 60.*"
   ]
  },
  {
   "cell_type": "code",
   "execution_count": 68,
   "id": "69806fc0",
   "metadata": {},
   "outputs": [
    {
     "data": {
      "image/png": "[encoded data removed]",
      "text/plain": [
       "<Figure size 432x288 with 1 Axes>"
      ]
     },
     "metadata": {
      "needs_background": "light"
     },
     "output_type": "display_data"
    }
   ],
   "source": [
    "func_univariate_box('term')"
   ]
  },
  {
   "cell_type": "markdown",
   "id": "578fb947",
   "metadata": {},
   "source": [
    "### Observations:\n",
    "`Barrowrs have taken 36 months tenure more than 60 months.`"
   ]
  },
  {
   "cell_type": "markdown",
   "id": "be2c6158",
   "metadata": {},
   "source": [
    "## grade\n",
    "#### *LC assigned loan grade*"
   ]
  },
  {
   "cell_type": "code",
   "execution_count": 70,
   "id": "c060d078",
   "metadata": {},
   "outputs": [
    {
     "data": {
      "image/png": "[encoded data removed]",
      "text/plain": [
       "<Figure size 432x288 with 1 Axes>"
      ]
     },
     "metadata": {
      "needs_background": "light"
     },
     "output_type": "display_data"
    }
   ],
   "source": [
    "func_univariate_box('grade')"
   ]
  },
  {
   "cell_type": "markdown",
   "id": "755b6999",
   "metadata": {},
   "source": [
    "### Observations:\n",
    "`Most borrowers fall under A and B grades then other grades.`"
   ]
  },
  {
   "cell_type": "markdown",
   "id": "c616ddc2",
   "metadata": {},
   "source": [
    "## emp_length\n",
    "#### *Employment length in years. Possible values are between 0 and 10 where 0 means less than one year and 10 means ten or more years.* "
   ]
  },
  {
   "cell_type": "code",
   "execution_count": 71,
   "id": "0ea7568a",
   "metadata": {},
   "outputs": [
    {
     "data": {
      "image/png": "[encoded data removed]",
      "text/plain": [
       "<Figure size 720x288 with 1 Axes>"
      ]
     },
     "metadata": {
      "needs_background": "light"
     },
     "output_type": "display_data"
    }
   ],
   "source": [
    "plt.figure(figsize=(10,4))\n",
    "var = 'emp_length'\n",
    "prob_df = data_loan[var].value_counts(normalize=True).reset_index()\n",
    "sns.barplot(x='index', y=var, data=prob_df)\n",
    "plt.xlabel(var)\n",
    "plt.ylabel('Proportion')\n",
    "plt.title(var+' Distribution')\n",
    "plt.show()"
   ]
  },
  {
   "cell_type": "markdown",
   "id": "a1192eb8",
   "metadata": {},
   "source": [
    "### Observations:\n",
    "`Borrowers are mostly 10+ years emploment length.`"
   ]
  },
  {
   "cell_type": "markdown",
   "id": "da0febed",
   "metadata": {},
   "source": [
    "## home_ownership\n",
    "#### *The home ownership status provided by the borrower during registration. Our values are: RENT, OWN, MORTGAGE, OTHER.*"
   ]
  },
  {
   "cell_type": "code",
   "execution_count": 72,
   "id": "63c9a96a",
   "metadata": {},
   "outputs": [
    {
     "data": {
      "image/png": "[encoded data removed]",
      "text/plain": [
       "<Figure size 432x288 with 1 Axes>"
      ]
     },
     "metadata": {
      "needs_background": "light"
     },
     "output_type": "display_data"
    }
   ],
   "source": [
    "func_univariate_box('home_ownership')"
   ]
  },
  {
   "cell_type": "markdown",
   "id": "fd2538d4",
   "metadata": {},
   "source": [
    "### Observations:\n",
    "`The loan borrowers are mostly having rented and mortgage houses.`"
   ]
  },
  {
   "cell_type": "markdown",
   "id": "a44d8901",
   "metadata": {},
   "source": [
    "## verification_status\n",
    "#### *Indicates if income was verified by LC, not verified, or if the income source was verified.*"
   ]
  },
  {
   "cell_type": "code",
   "execution_count": 74,
   "id": "cde71f05",
   "metadata": {},
   "outputs": [
    {
     "data": {
      "image/png": "[encoded data removed]",
      "text/plain": [
       "<Figure size 432x288 with 1 Axes>"
      ]
     },
     "metadata": {
      "needs_background": "light"
     },
     "output_type": "display_data"
    }
   ],
   "source": [
    "func_univariate_box('verification_status')"
   ]
  },
  {
   "cell_type": "markdown",
   "id": "a769ac9b",
   "metadata": {},
   "source": [
    "### Observations:\n",
    "`Majority of loans were given without verification of applicants income.`"
   ]
  },
  {
   "cell_type": "markdown",
   "id": "885fedea",
   "metadata": {},
   "source": [
    "## loan_status\n",
    "#### *Current status of the loan.*"
   ]
  },
  {
   "cell_type": "code",
   "execution_count": 75,
   "id": "dfd34fff",
   "metadata": {},
   "outputs": [
    {
     "data": {
      "image/png": "[encoded data removed]",
      "text/plain": [
       "<Figure size 432x288 with 1 Axes>"
      ]
     },
     "metadata": {
      "needs_background": "light"
     },
     "output_type": "display_data"
    }
   ],
   "source": [
    "func_univariate_box('loan_status')"
   ]
  },
  {
   "cell_type": "markdown",
   "id": "afabc7ef",
   "metadata": {},
   "source": [
    "### Observations:\n",
    "`More than 80% of borrowers has paid the loan fully. where are less than 14% are defaulted the loan.`"
   ]
  },
  {
   "cell_type": "markdown",
   "id": "c2126822",
   "metadata": {},
   "source": [
    "## purpose\n",
    "#### *A category provided by the borrower for the loan request.*"
   ]
  },
  {
   "cell_type": "code",
   "execution_count": 77,
   "id": "36f3d766",
   "metadata": {},
   "outputs": [
    {
     "data": {
      "image/png": "[encoded data removed]",
      "text/plain": [
       "<Figure size 864x288 with 1 Axes>"
      ]
     },
     "metadata": {
      "needs_background": "light"
     },
     "output_type": "display_data"
    }
   ],
   "source": [
    "plt.figure(figsize=(12,4))\n",
    "var = 'purpose'\n",
    "prob_df = data_loan[var].value_counts(normalize=True).reset_index()\n",
    "sns.barplot(x='index', y=var, data=prob_df)\n",
    "plt.xlabel(var)\n",
    "plt.xticks(rotation=90)\n",
    "plt.ylabel('Proportion')\n",
    "plt.title(var+' Distribution')\n",
    "plt.show()"
   ]
  },
  {
   "cell_type": "markdown",
   "id": "71b838bf",
   "metadata": {},
   "source": [
    "## Observations:\n",
    "`Looks like more number of people took loan for debt consolidation and a very few people took for renewable energy.`"
   ]
  },
  {
   "cell_type": "markdown",
   "id": "7c1d72aa",
   "metadata": {},
   "source": [
    "## addr_state\n",
    "#### *The state provided by the borrower in the loan application.*"
   ]
  },
  {
   "cell_type": "code",
   "execution_count": 80,
   "id": "a578e304",
   "metadata": {},
   "outputs": [
    {
     "data": {
      "image/png": "[encoded data removed]",
      "text/plain": [
       "<Figure size 1440x288 with 1 Axes>"
      ]
     },
     "metadata": {
      "needs_background": "light"
     },
     "output_type": "display_data"
    }
   ],
   "source": [
    "plt.figure(figsize=(20,4))\n",
    "var = 'addr_state'\n",
    "prob_df = data_loan[var].value_counts(normalize=True).reset_index()\n",
    "sns.barplot(x='index', y=var, data=prob_df)\n",
    "plt.xlabel(var)\n",
    "plt.ylabel('Proportion')\n",
    "plt.title(var+' Distribution')\n",
    "plt.show()"
   ]
  },
  {
   "cell_type": "markdown",
   "id": "9552107f",
   "metadata": {},
   "source": [
    "### Observations:\n",
    "`Most of the borrowers are from CA and NY`"
   ]
  },
  {
   "cell_type": "markdown",
   "id": "130bce9b",
   "metadata": {},
   "source": [
    "# Segmented Univariate analysis "
   ]
  },
  {
   "cell_type": "markdown",
   "id": "f92bdd56",
   "metadata": {},
   "source": [
    "## Term vs Loan amount"
   ]
  },
  {
   "cell_type": "code",
   "execution_count": 82,
   "id": "ca790e92",
   "metadata": {},
   "outputs": [
    {
     "data": {
      "image/png": "[encoded data removed]",
      "text/plain": [
       "<Figure size 1440x360 with 1 Axes>"
      ]
     },
     "metadata": {
      "needs_background": "light"
     },
     "output_type": "display_data"
    }
   ],
   "source": [
    "plt.figure(figsize=(20,5))\n",
    "plt.subplot(122)\n",
    "sns.barplot(x='term', y='loan_amnt', hue='loan_status', data=data_loan, estimator=np.median)\n",
    "plt.title('Term vs loan amount')\n",
    "plt.show()"
   ]
  },
  {
   "cell_type": "markdown",
   "id": "e0536744",
   "metadata": {},
   "source": [
    "### Observations:\n",
    "`Loan amount is not a decider for defaults in both 36 adn 60 months.`<BR>\n",
    "`Borrowers have equal distribtion is both default and non default for 36 and 60 months tenures.`"
   ]
  },
  {
   "cell_type": "markdown",
   "id": "23b000a3",
   "metadata": {},
   "source": [
    "## Term vs int rate"
   ]
  },
  {
   "cell_type": "code",
   "execution_count": 84,
   "id": "1bf677b8",
   "metadata": {},
   "outputs": [
    {
     "data": {
      "image/png": "[encoded data removed]",
      "text/plain": [
       "<Figure size 1440x360 with 1 Axes>"
      ]
     },
     "metadata": {
      "needs_background": "light"
     },
     "output_type": "display_data"
    }
   ],
   "source": [
    "plt.figure(figsize=(20,5))\n",
    "plt.subplot(122)\n",
    "sns.barplot(x='term', y='int_rate', hue='loan_status', data=data_loan, estimator=np.median)\n",
    "plt.title('Term vs Interest rate')\n",
    "plt.show()"
   ]
  },
  {
   "cell_type": "markdown",
   "id": "f9760b0a",
   "metadata": {},
   "source": [
    "### Observations:\n",
    "`For higher interest rates the default rate is higher in both 36 and 60 months tenure.`"
   ]
  },
  {
   "cell_type": "markdown",
   "id": "beed30a2",
   "metadata": {},
   "source": [
    "## term vs dti"
   ]
  },
  {
   "cell_type": "code",
   "execution_count": 86,
   "id": "60e567a1",
   "metadata": {},
   "outputs": [
    {
     "data": {
      "image/png": "[encoded data removed]",
      "text/plain": [
       "<Figure size 1440x360 with 1 Axes>"
      ]
     },
     "metadata": {
      "needs_background": "light"
     },
     "output_type": "display_data"
    }
   ],
   "source": [
    "plt.figure(figsize=(20,5))\n",
    "plt.subplot(122)\n",
    "sns.barplot(x='term', y='dti', hue='loan_status', data=data_loan, estimator=np.median)\n",
    "plt.suptitle('Term vs DTI')\n",
    "plt.show()"
   ]
  },
  {
   "cell_type": "markdown",
   "id": "c1b73f12",
   "metadata": {},
   "source": [
    "### Observations:\n",
    "`Comparitively charge-off are higher when compared with fully-paid for the Debit to income ratio.`"
   ]
  },
  {
   "cell_type": "markdown",
   "id": "fd5f2a92",
   "metadata": {},
   "source": [
    "## Term vs loan amount"
   ]
  },
  {
   "cell_type": "code",
   "execution_count": 89,
   "id": "e5cd08b2",
   "metadata": {},
   "outputs": [
    {
     "data": {
      "image/png": "[encoded data removed]",
      "text/plain": [
       "<Figure size 1440x360 with 1 Axes>"
      ]
     },
     "metadata": {
      "needs_background": "light"
     },
     "output_type": "display_data"
    }
   ],
   "source": [
    "#Sorting Grades from A to G\n",
    "grade_order = data_loan.grade.unique()\n",
    "grade_order.sort()\n",
    "plt.figure(figsize=(20,5))\n",
    "sns.barplot(x='grade', y='loan_amnt', hue='loan_status', data=data_loan, estimator=np.median, order = grade_order)\n",
    "plt.suptitle('Term vs loan amount')\n",
    "plt.show()\n"
   ]
  },
  {
   "cell_type": "markdown",
   "id": "dd20fee7",
   "metadata": {},
   "source": [
    "### Observation:\n",
    "`The lower grade people has taken higher amount of loans and also they are more prone to default the loan.`"
   ]
  },
  {
   "cell_type": "markdown",
   "id": "b31063a7",
   "metadata": {},
   "source": [
    "## Grade vs Interest Rate"
   ]
  },
  {
   "cell_type": "code",
   "execution_count": 92,
   "id": "1623ce04",
   "metadata": {},
   "outputs": [
    {
     "data": {
      "image/png": "[encoded data removed]",
      "text/plain": [
       "<Figure size 1440x360 with 1 Axes>"
      ]
     },
     "metadata": {
      "needs_background": "light"
     },
     "output_type": "display_data"
    }
   ],
   "source": [
    "plt.figure(figsize=(20,5))\n",
    "plt.subplot(122)\n",
    "sns.barplot(x='grade', y='int_rate', hue='loan_status', data=data_loan, order = grade_order, estimator=np.median)\n",
    "plt.title('Grade vs Interest Rate')\n",
    "plt.show()"
   ]
  },
  {
   "cell_type": "markdown",
   "id": "2e84d4b3",
   "metadata": {},
   "source": [
    "### Observations:\n",
    "`As grade decreases the interest rate gradually increases. and they are more and more prone to default the loan.`"
   ]
  },
  {
   "cell_type": "markdown",
   "id": "a187aaf0",
   "metadata": {},
   "source": [
    "## garde vs DTI"
   ]
  },
  {
   "cell_type": "code",
   "execution_count": 94,
   "id": "dd828d33",
   "metadata": {},
   "outputs": [
    {
     "data": {
      "image/png": "[encoded data removed]",
      "text/plain": [
       "<Figure size 1440x360 with 1 Axes>"
      ]
     },
     "metadata": {
      "needs_background": "light"
     },
     "output_type": "display_data"
    }
   ],
   "source": [
    "plt.figure(figsize=(20,5))\n",
    "sns.barplot(x='grade', y='dti', hue='loan_status', data=data_loan, estimator=np.median, order = grade_order)\n",
    "plt.suptitle('garde vs DTI')\n",
    "plt.show()"
   ]
  },
  {
   "cell_type": "markdown",
   "id": "ac14eb2a",
   "metadata": {},
   "source": [
    "### Observations:\n",
    "`There is not much change in dti in each grade and loan status.`"
   ]
  },
  {
   "cell_type": "markdown",
   "id": "8c3f8b06",
   "metadata": {},
   "source": [
    "## Term vs loan amount"
   ]
  },
  {
   "cell_type": "code",
   "execution_count": 95,
   "id": "ab29cd9f",
   "metadata": {},
   "outputs": [
    {
     "data": {
      "image/png": "[encoded data removed]",
      "text/plain": [
       "<Figure size 1440x432 with 1 Axes>"
      ]
     },
     "metadata": {
      "needs_background": "light"
     },
     "output_type": "display_data"
    }
   ],
   "source": [
    "plt.figure(figsize=(20,6))\n",
    "plt.subplot(211)\n",
    "sns.barplot(x='emp_length', y='int_rate', hue='loan_status', data=data_loan, estimator=np.median)\n",
    "plt.title('Term vs loan amount')\n",
    "plt.show()"
   ]
  },
  {
   "cell_type": "markdown",
   "id": "53001e0b",
   "metadata": {},
   "source": [
    "### Observations:\n",
    "`Irrespictive of employment length loans with more interest rates got defaulted more.`"
   ]
  },
  {
   "cell_type": "markdown",
   "id": "f253d20c",
   "metadata": {},
   "source": [
    "## Address State"
   ]
  },
  {
   "cell_type": "code",
   "execution_count": 97,
   "id": "af3b40f2",
   "metadata": {},
   "outputs": [
    {
     "data": {
      "image/png": "[encoded data removed]",
      "text/plain": [
       "<Figure size 1440x432 with 1 Axes>"
      ]
     },
     "metadata": {
      "needs_background": "light"
     },
     "output_type": "display_data"
    },
    {
     "data": {
      "image/png": "[encoded data removed]",
      "text/plain": [
       "<Figure size 1440x432 with 1 Axes>"
      ]
     },
     "metadata": {
      "needs_background": "light"
     },
     "output_type": "display_data"
    }
   ],
   "source": [
    "charged_off_df = data_loan[data_loan.loan_status.values == 'Charged Off']\n",
    "plt.figure(figsize=(20,6))\n",
    "plt.subplot(211)\n",
    "sns.countplot(x='addr_state', data=charged_off_df, order=charged_off_df.addr_state.value_counts().index)\n",
    "plt.title('Address State vs Charged Off')\n",
    "\n",
    "fp_df = data_loan[data_loan.loan_status.values == 'Fully Paid']\n",
    "plt.figure(figsize=(20,6))\n",
    "plt.subplot(212)\n",
    "sns.countplot(x='addr_state', data=fp_df, order=fp_df.addr_state.value_counts().index)\n",
    "plt.title('Address State vs Fully Paid')\n",
    "plt.show()"
   ]
  },
  {
   "cell_type": "markdown",
   "id": "ca01c216",
   "metadata": {},
   "source": [
    "### Observations:\n",
    "`More number of borrowers defaulted in CA  followed by FL and NY states.`"
   ]
  },
  {
   "cell_type": "markdown",
   "id": "2ceb0285",
   "metadata": {},
   "source": [
    "## Purpose vs loan amount"
   ]
  },
  {
   "cell_type": "code",
   "execution_count": 99,
   "id": "960e8295",
   "metadata": {},
   "outputs": [
    {
     "data": {
      "text/plain": [
       "<Figure size 432x288 with 0 Axes>"
      ]
     },
     "metadata": {},
     "output_type": "display_data"
    },
    {
     "data": {
      "image/png": "[encoded data removed]",
      "text/plain": [
       "<Figure size 1440x360 with 1 Axes>"
      ]
     },
     "metadata": {
      "needs_background": "light"
     },
     "output_type": "display_data"
    },
    {
     "data": {
      "image/png": "[encoded data removed]",
      "text/plain": [
       "<Figure size 1440x360 with 1 Axes>"
      ]
     },
     "metadata": {
      "needs_background": "light"
     },
     "output_type": "display_data"
    }
   ],
   "source": [
    "df = data_loan.groupby(['purpose', 'loan_status'], as_index=False)['loan_amnt'].median()\n",
    "\n",
    "plt.suptitle('Purpose vs loan amount')\n",
    "plt.figure(figsize=(20,5))\n",
    "plt.subplot(211)\n",
    "sns.barplot(x='purpose', y='loan_amnt', hue='loan_status', data= data_loan, order=df[df.loan_status == 'Charged Off'].sort_values(by='loan_amnt').purpose, estimator=np.median)\n",
    "plt.xticks(rotation=90)\n",
    "\n",
    "plt.figure(figsize=(20,5))\n",
    "plt.subplot(212)\n",
    "sns.boxplot(x='purpose', y='loan_amnt', hue='loan_status', data= data_loan, order=df[df.loan_status == 'Charged Off'].sort_values(by='loan_amnt').purpose)\n",
    "plt.show()"
   ]
  },
  {
   "cell_type": "markdown",
   "id": "35aaac1f",
   "metadata": {},
   "source": [
    "### Observations:\n",
    "`Small Business has more defaults when the loan amount is also high.`"
   ]
  },
  {
   "cell_type": "code",
   "execution_count": null,
   "id": "7b143510",
   "metadata": {},
   "outputs": [],
   "source": []
  }
 ],
 "metadata": {
  "kernelspec": {
   "display_name": "Python 3 (ipykernel)",
   "language": "python",
   "name": "python3"
  },
  "language_info": {
   "codemirror_mode": {
    "name": "ipython",
    "version": 3
   },
   "file_extension": ".py",
   "mimetype": "text/x-python",
   "name": "python",
   "nbconvert_exporter": "python",
   "pygments_lexer": "ipython3",
   "version": "3.9.7"
  }
 },
 "nbformat": 4,
 "nbformat_minor": 5
}
